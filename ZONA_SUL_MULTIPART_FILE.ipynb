{
  "nbformat": 4,
  "nbformat_minor": 0,
  "metadata": {
    "kernelspec": {
      "display_name": "Python 3",
      "language": "python",
      "name": "python3"
    },
    "language_info": {
      "codemirror_mode": {
        "name": "ipython",
        "version": 3
      },
      "file_extension": ".py",
      "mimetype": "text/x-python",
      "name": "python",
      "nbconvert_exporter": "python",
      "pygments_lexer": "ipython3",
      "version": "3.7.1"
    },
    "colab": {
      "name": "ZONA SUL - MULTIPART FILE.ipynb",
      "provenance": [],
      "include_colab_link": true
    }
  },
  "cells": [
    {
      "cell_type": "markdown",
      "metadata": {
        "id": "view-in-github",
        "colab_type": "text"
      },
      "source": [
        "<a href=\"https://colab.research.google.com/github/valentimaraujo/data-science-practice/blob/master/ZONA_SUL_MULTIPART_FILE.ipynb\" target=\"_parent\"><img src=\"https://colab.research.google.com/assets/colab-badge.svg\" alt=\"Open In Colab\"/></a>"
      ]
    },
    {
      "cell_type": "code",
      "metadata": {
        "id": "su5FZ0xQPqvH",
        "colab_type": "code",
        "colab": {}
      },
      "source": [
        "import os\n",
        "import pandas as pd"
      ],
      "execution_count": 0,
      "outputs": []
    },
    {
      "cell_type": "code",
      "metadata": {
        "id": "cMYA5F9FPqvO",
        "colab_type": "code",
        "colab": {}
      },
      "source": [
        "countPartition = 0\n",
        "fileName = 'balancete-por-filial-secao-abril'"
      ],
      "execution_count": 0,
      "outputs": []
    },
    {
      "cell_type": "code",
      "metadata": {
        "id": "pQ7IRkdyPqvS",
        "colab_type": "code",
        "colab": {}
      },
      "source": [
        "def createFilePart(objDF):\n",
        "    global countPartition\n",
        "    global fileName\n",
        "    fileParticionalName = 'data/zona-sul/particional/2020-06-02/dados-contabeis_{}.csv'.format(f'{countPartition:03}')\n",
        "    objDF.to_csv (fileParticionalName, index=None, header=False, sep=';')\n",
        "    countPartition = countPartition + 1\n",
        "    print(\"==>>>> createFilePart {} with {} rows\".format(fileParticionalName, len(objDF)))"
      ],
      "execution_count": 0,
      "outputs": []
    },
    {
      "cell_type": "code",
      "metadata": {
        "id": "igobQJBwPqvW",
        "colab_type": "code",
        "colab": {}
      },
      "source": [
        "df = pd.read_csv('./data/zona-sul/{}.csv'.format(fileName), sep=';', chunksize=4000, header=None)"
      ],
      "execution_count": 0,
      "outputs": []
    },
    {
      "cell_type": "code",
      "metadata": {
        "id": "LEo1d0cCPqva",
        "colab_type": "code",
        "colab": {},
        "outputId": "e4c9f4eb-f0d3-430b-ad24-ff724bc89f3c"
      },
      "source": [
        "for parte in df:\n",
        "    createFilePart(parte)"
      ],
      "execution_count": 0,
      "outputs": [
        {
          "output_type": "stream",
          "text": [
            "==>>>> createFilePart data/zona-sul/particional/2020-06-02/dados-contabeis_000.csv with 4000 rows\n",
            "==>>>> createFilePart data/zona-sul/particional/2020-06-02/dados-contabeis_001.csv with 4000 rows\n",
            "==>>>> createFilePart data/zona-sul/particional/2020-06-02/dados-contabeis_002.csv with 4000 rows\n",
            "==>>>> createFilePart data/zona-sul/particional/2020-06-02/dados-contabeis_003.csv with 4000 rows\n",
            "==>>>> createFilePart data/zona-sul/particional/2020-06-02/dados-contabeis_004.csv with 4000 rows\n",
            "==>>>> createFilePart data/zona-sul/particional/2020-06-02/dados-contabeis_005.csv with 4000 rows\n",
            "==>>>> createFilePart data/zona-sul/particional/2020-06-02/dados-contabeis_006.csv with 4000 rows\n",
            "==>>>> createFilePart data/zona-sul/particional/2020-06-02/dados-contabeis_007.csv with 4000 rows\n",
            "==>>>> createFilePart data/zona-sul/particional/2020-06-02/dados-contabeis_008.csv with 4000 rows\n",
            "==>>>> createFilePart data/zona-sul/particional/2020-06-02/dados-contabeis_009.csv with 4000 rows\n",
            "==>>>> createFilePart data/zona-sul/particional/2020-06-02/dados-contabeis_010.csv with 4000 rows\n",
            "==>>>> createFilePart data/zona-sul/particional/2020-06-02/dados-contabeis_011.csv with 4000 rows\n",
            "==>>>> createFilePart data/zona-sul/particional/2020-06-02/dados-contabeis_012.csv with 4000 rows\n",
            "==>>>> createFilePart data/zona-sul/particional/2020-06-02/dados-contabeis_013.csv with 4000 rows\n",
            "==>>>> createFilePart data/zona-sul/particional/2020-06-02/dados-contabeis_014.csv with 4000 rows\n",
            "==>>>> createFilePart data/zona-sul/particional/2020-06-02/dados-contabeis_015.csv with 4000 rows\n",
            "==>>>> createFilePart data/zona-sul/particional/2020-06-02/dados-contabeis_016.csv with 4000 rows\n",
            "==>>>> createFilePart data/zona-sul/particional/2020-06-02/dados-contabeis_017.csv with 4000 rows\n",
            "==>>>> createFilePart data/zona-sul/particional/2020-06-02/dados-contabeis_018.csv with 4000 rows\n",
            "==>>>> createFilePart data/zona-sul/particional/2020-06-02/dados-contabeis_019.csv with 4000 rows\n",
            "==>>>> createFilePart data/zona-sul/particional/2020-06-02/dados-contabeis_020.csv with 4000 rows\n",
            "==>>>> createFilePart data/zona-sul/particional/2020-06-02/dados-contabeis_021.csv with 4000 rows\n",
            "==>>>> createFilePart data/zona-sul/particional/2020-06-02/dados-contabeis_022.csv with 4000 rows\n",
            "==>>>> createFilePart data/zona-sul/particional/2020-06-02/dados-contabeis_023.csv with 4000 rows\n",
            "==>>>> createFilePart data/zona-sul/particional/2020-06-02/dados-contabeis_024.csv with 4000 rows\n",
            "==>>>> createFilePart data/zona-sul/particional/2020-06-02/dados-contabeis_025.csv with 4000 rows\n",
            "==>>>> createFilePart data/zona-sul/particional/2020-06-02/dados-contabeis_026.csv with 4000 rows\n",
            "==>>>> createFilePart data/zona-sul/particional/2020-06-02/dados-contabeis_027.csv with 4000 rows\n",
            "==>>>> createFilePart data/zona-sul/particional/2020-06-02/dados-contabeis_028.csv with 4000 rows\n",
            "==>>>> createFilePart data/zona-sul/particional/2020-06-02/dados-contabeis_029.csv with 4000 rows\n",
            "==>>>> createFilePart data/zona-sul/particional/2020-06-02/dados-contabeis_030.csv with 4000 rows\n",
            "==>>>> createFilePart data/zona-sul/particional/2020-06-02/dados-contabeis_031.csv with 4000 rows\n",
            "==>>>> createFilePart data/zona-sul/particional/2020-06-02/dados-contabeis_032.csv with 4000 rows\n",
            "==>>>> createFilePart data/zona-sul/particional/2020-06-02/dados-contabeis_033.csv with 4000 rows\n",
            "==>>>> createFilePart data/zona-sul/particional/2020-06-02/dados-contabeis_034.csv with 4000 rows\n",
            "==>>>> createFilePart data/zona-sul/particional/2020-06-02/dados-contabeis_035.csv with 4000 rows\n",
            "==>>>> createFilePart data/zona-sul/particional/2020-06-02/dados-contabeis_036.csv with 4000 rows\n",
            "==>>>> createFilePart data/zona-sul/particional/2020-06-02/dados-contabeis_037.csv with 4000 rows\n",
            "==>>>> createFilePart data/zona-sul/particional/2020-06-02/dados-contabeis_038.csv with 4000 rows\n",
            "==>>>> createFilePart data/zona-sul/particional/2020-06-02/dados-contabeis_039.csv with 4000 rows\n",
            "==>>>> createFilePart data/zona-sul/particional/2020-06-02/dados-contabeis_040.csv with 4000 rows\n",
            "==>>>> createFilePart data/zona-sul/particional/2020-06-02/dados-contabeis_041.csv with 4000 rows\n",
            "==>>>> createFilePart data/zona-sul/particional/2020-06-02/dados-contabeis_042.csv with 4000 rows\n",
            "==>>>> createFilePart data/zona-sul/particional/2020-06-02/dados-contabeis_043.csv with 4000 rows\n",
            "==>>>> createFilePart data/zona-sul/particional/2020-06-02/dados-contabeis_044.csv with 4000 rows\n",
            "==>>>> createFilePart data/zona-sul/particional/2020-06-02/dados-contabeis_045.csv with 4000 rows\n",
            "==>>>> createFilePart data/zona-sul/particional/2020-06-02/dados-contabeis_046.csv with 4000 rows\n",
            "==>>>> createFilePart data/zona-sul/particional/2020-06-02/dados-contabeis_047.csv with 4000 rows\n",
            "==>>>> createFilePart data/zona-sul/particional/2020-06-02/dados-contabeis_048.csv with 4000 rows\n",
            "==>>>> createFilePart data/zona-sul/particional/2020-06-02/dados-contabeis_049.csv with 4000 rows\n",
            "==>>>> createFilePart data/zona-sul/particional/2020-06-02/dados-contabeis_050.csv with 4000 rows\n",
            "==>>>> createFilePart data/zona-sul/particional/2020-06-02/dados-contabeis_051.csv with 4000 rows\n",
            "==>>>> createFilePart data/zona-sul/particional/2020-06-02/dados-contabeis_052.csv with 4000 rows\n",
            "==>>>> createFilePart data/zona-sul/particional/2020-06-02/dados-contabeis_053.csv with 4000 rows\n",
            "==>>>> createFilePart data/zona-sul/particional/2020-06-02/dados-contabeis_054.csv with 4000 rows\n",
            "==>>>> createFilePart data/zona-sul/particional/2020-06-02/dados-contabeis_055.csv with 4000 rows\n",
            "==>>>> createFilePart data/zona-sul/particional/2020-06-02/dados-contabeis_056.csv with 4000 rows\n",
            "==>>>> createFilePart data/zona-sul/particional/2020-06-02/dados-contabeis_057.csv with 4000 rows\n",
            "==>>>> createFilePart data/zona-sul/particional/2020-06-02/dados-contabeis_058.csv with 4000 rows\n",
            "==>>>> createFilePart data/zona-sul/particional/2020-06-02/dados-contabeis_059.csv with 4000 rows\n",
            "==>>>> createFilePart data/zona-sul/particional/2020-06-02/dados-contabeis_060.csv with 4000 rows\n",
            "==>>>> createFilePart data/zona-sul/particional/2020-06-02/dados-contabeis_061.csv with 4000 rows\n",
            "==>>>> createFilePart data/zona-sul/particional/2020-06-02/dados-contabeis_062.csv with 4000 rows\n",
            "==>>>> createFilePart data/zona-sul/particional/2020-06-02/dados-contabeis_063.csv with 4000 rows\n",
            "==>>>> createFilePart data/zona-sul/particional/2020-06-02/dados-contabeis_064.csv with 4000 rows\n",
            "==>>>> createFilePart data/zona-sul/particional/2020-06-02/dados-contabeis_065.csv with 4000 rows\n",
            "==>>>> createFilePart data/zona-sul/particional/2020-06-02/dados-contabeis_066.csv with 4000 rows\n",
            "==>>>> createFilePart data/zona-sul/particional/2020-06-02/dados-contabeis_067.csv with 4000 rows\n",
            "==>>>> createFilePart data/zona-sul/particional/2020-06-02/dados-contabeis_068.csv with 4000 rows\n",
            "==>>>> createFilePart data/zona-sul/particional/2020-06-02/dados-contabeis_069.csv with 4000 rows\n",
            "==>>>> createFilePart data/zona-sul/particional/2020-06-02/dados-contabeis_070.csv with 4000 rows\n",
            "==>>>> createFilePart data/zona-sul/particional/2020-06-02/dados-contabeis_071.csv with 4000 rows\n",
            "==>>>> createFilePart data/zona-sul/particional/2020-06-02/dados-contabeis_072.csv with 4000 rows\n",
            "==>>>> createFilePart data/zona-sul/particional/2020-06-02/dados-contabeis_073.csv with 4000 rows\n",
            "==>>>> createFilePart data/zona-sul/particional/2020-06-02/dados-contabeis_074.csv with 4000 rows\n",
            "==>>>> createFilePart data/zona-sul/particional/2020-06-02/dados-contabeis_075.csv with 4000 rows\n",
            "==>>>> createFilePart data/zona-sul/particional/2020-06-02/dados-contabeis_076.csv with 4000 rows\n",
            "==>>>> createFilePart data/zona-sul/particional/2020-06-02/dados-contabeis_077.csv with 4000 rows\n",
            "==>>>> createFilePart data/zona-sul/particional/2020-06-02/dados-contabeis_078.csv with 4000 rows\n",
            "==>>>> createFilePart data/zona-sul/particional/2020-06-02/dados-contabeis_079.csv with 4000 rows\n",
            "==>>>> createFilePart data/zona-sul/particional/2020-06-02/dados-contabeis_080.csv with 4000 rows\n",
            "==>>>> createFilePart data/zona-sul/particional/2020-06-02/dados-contabeis_081.csv with 4000 rows\n",
            "==>>>> createFilePart data/zona-sul/particional/2020-06-02/dados-contabeis_082.csv with 4000 rows\n",
            "==>>>> createFilePart data/zona-sul/particional/2020-06-02/dados-contabeis_083.csv with 4000 rows\n"
          ],
          "name": "stdout"
        },
        {
          "output_type": "stream",
          "text": [
            "==>>>> createFilePart data/zona-sul/particional/2020-06-02/dados-contabeis_084.csv with 4000 rows\n",
            "==>>>> createFilePart data/zona-sul/particional/2020-06-02/dados-contabeis_085.csv with 4000 rows\n",
            "==>>>> createFilePart data/zona-sul/particional/2020-06-02/dados-contabeis_086.csv with 4000 rows\n",
            "==>>>> createFilePart data/zona-sul/particional/2020-06-02/dados-contabeis_087.csv with 4000 rows\n",
            "==>>>> createFilePart data/zona-sul/particional/2020-06-02/dados-contabeis_088.csv with 4000 rows\n",
            "==>>>> createFilePart data/zona-sul/particional/2020-06-02/dados-contabeis_089.csv with 4000 rows\n",
            "==>>>> createFilePart data/zona-sul/particional/2020-06-02/dados-contabeis_090.csv with 4000 rows\n",
            "==>>>> createFilePart data/zona-sul/particional/2020-06-02/dados-contabeis_091.csv with 4000 rows\n",
            "==>>>> createFilePart data/zona-sul/particional/2020-06-02/dados-contabeis_092.csv with 4000 rows\n",
            "==>>>> createFilePart data/zona-sul/particional/2020-06-02/dados-contabeis_093.csv with 4000 rows\n",
            "==>>>> createFilePart data/zona-sul/particional/2020-06-02/dados-contabeis_094.csv with 4000 rows\n",
            "==>>>> createFilePart data/zona-sul/particional/2020-06-02/dados-contabeis_095.csv with 4000 rows\n",
            "==>>>> createFilePart data/zona-sul/particional/2020-06-02/dados-contabeis_096.csv with 4000 rows\n",
            "==>>>> createFilePart data/zona-sul/particional/2020-06-02/dados-contabeis_097.csv with 4000 rows\n",
            "==>>>> createFilePart data/zona-sul/particional/2020-06-02/dados-contabeis_098.csv with 4000 rows\n",
            "==>>>> createFilePart data/zona-sul/particional/2020-06-02/dados-contabeis_099.csv with 4000 rows\n",
            "==>>>> createFilePart data/zona-sul/particional/2020-06-02/dados-contabeis_100.csv with 4000 rows\n",
            "==>>>> createFilePart data/zona-sul/particional/2020-06-02/dados-contabeis_101.csv with 4000 rows\n",
            "==>>>> createFilePart data/zona-sul/particional/2020-06-02/dados-contabeis_102.csv with 4000 rows\n",
            "==>>>> createFilePart data/zona-sul/particional/2020-06-02/dados-contabeis_103.csv with 4000 rows\n",
            "==>>>> createFilePart data/zona-sul/particional/2020-06-02/dados-contabeis_104.csv with 4000 rows\n",
            "==>>>> createFilePart data/zona-sul/particional/2020-06-02/dados-contabeis_105.csv with 4000 rows\n",
            "==>>>> createFilePart data/zona-sul/particional/2020-06-02/dados-contabeis_106.csv with 4000 rows\n",
            "==>>>> createFilePart data/zona-sul/particional/2020-06-02/dados-contabeis_107.csv with 4000 rows\n",
            "==>>>> createFilePart data/zona-sul/particional/2020-06-02/dados-contabeis_108.csv with 4000 rows\n",
            "==>>>> createFilePart data/zona-sul/particional/2020-06-02/dados-contabeis_109.csv with 4000 rows\n",
            "==>>>> createFilePart data/zona-sul/particional/2020-06-02/dados-contabeis_110.csv with 4000 rows\n",
            "==>>>> createFilePart data/zona-sul/particional/2020-06-02/dados-contabeis_111.csv with 4000 rows\n",
            "==>>>> createFilePart data/zona-sul/particional/2020-06-02/dados-contabeis_112.csv with 4000 rows\n",
            "==>>>> createFilePart data/zona-sul/particional/2020-06-02/dados-contabeis_113.csv with 4000 rows\n",
            "==>>>> createFilePart data/zona-sul/particional/2020-06-02/dados-contabeis_114.csv with 4000 rows\n",
            "==>>>> createFilePart data/zona-sul/particional/2020-06-02/dados-contabeis_115.csv with 4000 rows\n",
            "==>>>> createFilePart data/zona-sul/particional/2020-06-02/dados-contabeis_116.csv with 4000 rows\n",
            "==>>>> createFilePart data/zona-sul/particional/2020-06-02/dados-contabeis_117.csv with 4000 rows\n",
            "==>>>> createFilePart data/zona-sul/particional/2020-06-02/dados-contabeis_118.csv with 4000 rows\n",
            "==>>>> createFilePart data/zona-sul/particional/2020-06-02/dados-contabeis_119.csv with 4000 rows\n",
            "==>>>> createFilePart data/zona-sul/particional/2020-06-02/dados-contabeis_120.csv with 4000 rows\n",
            "==>>>> createFilePart data/zona-sul/particional/2020-06-02/dados-contabeis_121.csv with 4000 rows\n",
            "==>>>> createFilePart data/zona-sul/particional/2020-06-02/dados-contabeis_122.csv with 4000 rows\n",
            "==>>>> createFilePart data/zona-sul/particional/2020-06-02/dados-contabeis_123.csv with 4000 rows\n",
            "==>>>> createFilePart data/zona-sul/particional/2020-06-02/dados-contabeis_124.csv with 4000 rows\n",
            "==>>>> createFilePart data/zona-sul/particional/2020-06-02/dados-contabeis_125.csv with 4000 rows\n",
            "==>>>> createFilePart data/zona-sul/particional/2020-06-02/dados-contabeis_126.csv with 4000 rows\n",
            "==>>>> createFilePart data/zona-sul/particional/2020-06-02/dados-contabeis_127.csv with 4000 rows\n",
            "==>>>> createFilePart data/zona-sul/particional/2020-06-02/dados-contabeis_128.csv with 4000 rows\n",
            "==>>>> createFilePart data/zona-sul/particional/2020-06-02/dados-contabeis_129.csv with 4000 rows\n",
            "==>>>> createFilePart data/zona-sul/particional/2020-06-02/dados-contabeis_130.csv with 4000 rows\n",
            "==>>>> createFilePart data/zona-sul/particional/2020-06-02/dados-contabeis_131.csv with 4000 rows\n",
            "==>>>> createFilePart data/zona-sul/particional/2020-06-02/dados-contabeis_132.csv with 4000 rows\n",
            "==>>>> createFilePart data/zona-sul/particional/2020-06-02/dados-contabeis_133.csv with 4000 rows\n",
            "==>>>> createFilePart data/zona-sul/particional/2020-06-02/dados-contabeis_134.csv with 4000 rows\n",
            "==>>>> createFilePart data/zona-sul/particional/2020-06-02/dados-contabeis_135.csv with 4000 rows\n",
            "==>>>> createFilePart data/zona-sul/particional/2020-06-02/dados-contabeis_136.csv with 4000 rows\n",
            "==>>>> createFilePart data/zona-sul/particional/2020-06-02/dados-contabeis_137.csv with 4000 rows\n",
            "==>>>> createFilePart data/zona-sul/particional/2020-06-02/dados-contabeis_138.csv with 4000 rows\n",
            "==>>>> createFilePart data/zona-sul/particional/2020-06-02/dados-contabeis_139.csv with 4000 rows\n",
            "==>>>> createFilePart data/zona-sul/particional/2020-06-02/dados-contabeis_140.csv with 572 rows\n"
          ],
          "name": "stdout"
        }
      ]
    }
  ]
}