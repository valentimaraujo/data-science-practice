{
 "cells": [
  {
   "cell_type": "code",
   "execution_count": 3,
   "metadata": {},
   "outputs": [],
   "source": [
    "import os\n",
    "import pandas as pd"
   ]
  },
  {
   "cell_type": "code",
   "execution_count": 11,
   "metadata": {},
   "outputs": [],
   "source": [
    "countPartition = 141\n",
    "fileName = 'balancete-megabox-abril'"
   ]
  },
  {
   "cell_type": "code",
   "execution_count": 8,
   "metadata": {},
   "outputs": [],
   "source": [
    "def createFilePart(objDF):\n",
    "    global countPartition\n",
    "    global fileName\n",
    "    fileParticionalName = 'data/zona-sul/particional/2020-06-30/dados-contabeis_{}.csv'.format(f'{countPartition:03}')\n",
    "    objDF.to_csv (fileParticionalName, index=None, header=False, sep=';')\n",
    "    countPartition = countPartition + 1\n",
    "    print(\"==>>>> createFilePart {} with {} rows\".format(fileParticionalName, len(objDF)))"
   ]
  },
  {
   "cell_type": "code",
   "execution_count": 15,
   "metadata": {},
   "outputs": [],
   "source": [
    "df = pd.read_csv('./data/zona-sul/{}.csv'.format(fileName), sep=';', chunksize=4000, header=None)"
   ]
  },
  {
   "cell_type": "code",
   "execution_count": 16,
   "metadata": {},
   "outputs": [
    {
     "name": "stdout",
     "output_type": "stream",
     "text": [
      "==>>>> createFilePart data/zona-sul/particional/2020-06-30/dados-contabeis_141.csv with 4000 rows\n",
      "==>>>> createFilePart data/zona-sul/particional/2020-06-30/dados-contabeis_142.csv with 4000 rows\n",
      "==>>>> createFilePart data/zona-sul/particional/2020-06-30/dados-contabeis_143.csv with 4000 rows\n",
      "==>>>> createFilePart data/zona-sul/particional/2020-06-30/dados-contabeis_144.csv with 4000 rows\n",
      "==>>>> createFilePart data/zona-sul/particional/2020-06-30/dados-contabeis_145.csv with 4000 rows\n",
      "==>>>> createFilePart data/zona-sul/particional/2020-06-30/dados-contabeis_146.csv with 4000 rows\n",
      "==>>>> createFilePart data/zona-sul/particional/2020-06-30/dados-contabeis_147.csv with 3562 rows\n"
     ]
    }
   ],
   "source": [
    "for parte in df:\n",
    "    createFilePart(parte)"
   ]
  }
 ],
 "metadata": {
  "kernelspec": {
   "display_name": "Python 3",
   "language": "python",
   "name": "python3"
  },
  "language_info": {
   "codemirror_mode": {
    "name": "ipython",
    "version": 3
   },
   "file_extension": ".py",
   "mimetype": "text/x-python",
   "name": "python",
   "nbconvert_exporter": "python",
   "pygments_lexer": "ipython3",
   "version": "3.7.1"
  }
 },
 "nbformat": 4,
 "nbformat_minor": 2
}
