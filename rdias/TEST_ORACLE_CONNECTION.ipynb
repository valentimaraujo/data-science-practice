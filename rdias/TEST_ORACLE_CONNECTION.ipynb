{
  "nbformat": 4,
  "nbformat_minor": 0,
  "metadata": {
    "kernelspec": {
      "display_name": "Python 3",
      "language": "python",
      "name": "python3"
    },
    "language_info": {
      "codemirror_mode": {
        "name": "ipython",
        "version": 3
      },
      "file_extension": ".py",
      "mimetype": "text/x-python",
      "name": "python",
      "nbconvert_exporter": "python",
      "pygments_lexer": "ipython3",
      "version": "3.7.1"
    },
    "colab": {
      "name": "TEST ORACLE CONNECTION.ipynb",
      "provenance": [],
      "include_colab_link": true
    }
  },
  "cells": [
    {
      "cell_type": "markdown",
      "metadata": {
        "id": "view-in-github",
        "colab_type": "text"
      },
      "source": [
        "<a href=\"https://colab.research.google.com/github/valentimaraujo/data-science-practice/blob/master/rdias/TEST_ORACLE_CONNECTION.ipynb\" target=\"_parent\"><img src=\"https://colab.research.google.com/assets/colab-badge.svg\" alt=\"Open In Colab\"/></a>"
      ]
    },
    {
      "cell_type": "code",
      "metadata": {
        "id": "X0P3eDP5Q521",
        "colab_type": "code",
        "colab": {}
      },
      "source": [
        "import pandas as pd\n",
        "import datetime\n",
        "from sqlalchemy import create_engine"
      ],
      "execution_count": 0,
      "outputs": []
    },
    {
      "cell_type": "code",
      "metadata": {
        "id": "r3YC4RhuQ527",
        "colab_type": "code",
        "colab": {}
      },
      "source": [
        "DB_HOST = 'xxx.xxx.x.xx:1521'\n",
        "DB_DATABASE = 'rdiasdb'\n",
        "DB_USER = 'rv4_prod'\n",
        "DB_PASS = 'rv4_prod'\n",
        "ENGINE_CONNECT = \"oracle://{}:{}@{}/{}\".format(DB_USER,DB_PASS,DB_HOST,DB_DATABASE)\n",
        "engine = create_engine(ENGINE_CONNECT, echo=False)"
      ],
      "execution_count": 0,
      "outputs": []
    },
    {
      "cell_type": "code",
      "metadata": {
        "id": "G8tE-u85Q52_",
        "colab_type": "code",
        "colab": {},
        "outputId": "a0d5f5e8-f975-4013-a1ea-117fb9abb6a6"
      },
      "source": [
        "documents = pd.read_sql(\"SELECT COUNT(*) FROM DOCUMENTS ORDER BY CREATEAT\",engine)\n",
        "print(documents)\n",
        "#for index, row in documents.iterrows():\n",
        "   # print(row.RELATIVE_PATH)"
      ],
      "execution_count": 0,
      "outputs": [
        {
          "output_type": "stream",
          "text": [
            "   COUNT(*)\n",
            "0    695383\n"
          ],
          "name": "stdout"
        }
      ]
    }
  ]
}