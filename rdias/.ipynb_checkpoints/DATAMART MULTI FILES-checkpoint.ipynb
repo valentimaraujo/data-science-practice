{
 "cells": [
  {
   "cell_type": "code",
   "execution_count": 1,
   "metadata": {},
   "outputs": [],
   "source": [
    "import os\n",
    "import pandas as pd\n",
    "import datetime\n",
    "from sqlalchemy import create_engine"
   ]
  },
  {
   "cell_type": "code",
   "execution_count": 2,
   "metadata": {},
   "outputs": [],
   "source": [
    "DB_HOST = 'xxx.xxx.x.xx:1521'\n",
    "DB_DATABASE = 'rdiasdb'\n",
    "DB_USER = 'rv4_prod'\n",
    "DB_PASS = 'rv4_prod'\n",
    "ENGINE_CONECT = \"oracle://{}:{}@{}/{}\".format(DB_USER, DB_PASS, DB_HOST, DB_DATABASE)\n",
    "engine = create_engine(ENGINE_CONECT, echo=False)"
   ]
  },
  {
   "cell_type": "code",
   "execution_count": 3,
   "metadata": {},
   "outputs": [],
   "source": [
    "def fieldsStandardization(objDF):\n",
    "    objDF['mprd_valorbcbruto'].fillna(0, inplace=True)\n",
    "    objDF['mprd_fatorestoque'].fillna(0, inplace=True)\n",
    "    objDF['mprd_codestoque'].fillna(0, inplace=True)\n",
    "    objDF['mprd_datamvto'] = objDF['mprd_datamvto'].apply(lambda x: datetime.datetime.strptime(x, '%Y-%m-%d'))     \n",
    "    objDF['createat'] = datetime.datetime.now()\n",
    "    objDF['updateat'] = datetime.datetime.now()  \n",
    "    objDF.fillna('', inplace=True)\n",
    "    \n",
    "    return objDF"
   ]
  },
  {
   "cell_type": "code",
   "execution_count": 4,
   "metadata": {},
   "outputs": [],
   "source": [
    "def saveInDataBase(file):\n",
    "    global path\n",
    "    df = pd.read_csv(path + file, sep=';', dtype={\n",
    "        'mprd_unid_codigo': 'object', 'mprd_transacao': 'object', 'mprd_status': 'object', 'mprd_dcto_tipo': 'object', \n",
    "        'mprd_fatorestoque':'float64', 'mprd_oferta': 'object'\n",
    "    })    \n",
    "    df = fieldsStandardization(df)  \n",
    "    df.to_sql(name='GO_MOV_PRODUTOS', con=engine, index=False, if_exists='append')    \n",
    "    deletFile(file)\n",
    "    print('Insert File: {} Count Rows: {}'.format(file, len(df)))"
   ]
  },
  {
   "cell_type": "code",
   "execution_count": 5,
   "metadata": {},
   "outputs": [],
   "source": [
    "def deletFile(file):\n",
    "    global path\n",
    "    deleteFile = path + file\n",
    "    os.remove(deleteFile)"
   ]
  },
  {
   "cell_type": "code",
   "execution_count": 6,
   "metadata": {},
   "outputs": [
    {
     "name": "stderr",
     "output_type": "stream",
     "text": [
      "C:\\Users\\varaujo\\AppData\\Local\\Continuum\\anaconda3\\lib\\site-packages\\pandas\\io\\sql.py:1144: UserWarning: The provided table name 'GO_MOV_PRODUTOS' is not found exactly as such in the database after writing the table, possibly due to case sensitivity issues. Consider using lower case table names.\n",
      "  warnings.warn(msg, UserWarning)\n"
     ]
    },
    {
     "name": "stdout",
     "output_type": "stream",
     "text": [
      "Insert File: MOVPRODD0619_0.csv Count Rows: 10000\n",
      "Insert File: MOVPRODD0619_1.csv Count Rows: 10000\n",
      "Insert File: MOVPRODD0619_10.csv Count Rows: 10000\n",
      "Insert File: MOVPRODD0619_11.csv Count Rows: 10000\n",
      "Insert File: MOVPRODD0619_12.csv Count Rows: 10000\n",
      "Insert File: MOVPRODD0619_13.csv Count Rows: 10000\n",
      "Insert File: MOVPRODD0619_14.csv Count Rows: 10000\n",
      "Insert File: MOVPRODD0619_15.csv Count Rows: 10000\n",
      "Insert File: MOVPRODD0619_16.csv Count Rows: 10000\n",
      "Insert File: MOVPRODD0619_17.csv Count Rows: 10000\n",
      "Insert File: MOVPRODD0619_18.csv Count Rows: 10000\n",
      "Insert File: MOVPRODD0619_19.csv Count Rows: 10000\n",
      "Insert File: MOVPRODD0619_2.csv Count Rows: 10000\n",
      "Insert File: MOVPRODD0619_20.csv Count Rows: 10000\n",
      "Insert File: MOVPRODD0619_21.csv Count Rows: 10000\n",
      "Insert File: MOVPRODD0619_22.csv Count Rows: 10000\n",
      "Insert File: MOVPRODD0619_23.csv Count Rows: 10000\n",
      "Insert File: MOVPRODD0619_24.csv Count Rows: 10000\n",
      "Insert File: MOVPRODD0619_25.csv Count Rows: 10000\n",
      "Insert File: MOVPRODD0619_26.csv Count Rows: 10000\n",
      "Insert File: MOVPRODD0619_27.csv Count Rows: 10000\n",
      "Insert File: MOVPRODD0619_28.csv Count Rows: 10000\n",
      "Insert File: MOVPRODD0619_29.csv Count Rows: 10000\n",
      "Insert File: MOVPRODD0619_3.csv Count Rows: 10000\n",
      "Insert File: MOVPRODD0619_30.csv Count Rows: 10000\n",
      "Insert File: MOVPRODD0619_31.csv Count Rows: 10000\n",
      "Insert File: MOVPRODD0619_32.csv Count Rows: 10000\n",
      "Insert File: MOVPRODD0619_33.csv Count Rows: 10000\n",
      "Insert File: MOVPRODD0619_34.csv Count Rows: 10000\n",
      "Insert File: MOVPRODD0619_35.csv Count Rows: 10000\n",
      "Insert File: MOVPRODD0619_36.csv Count Rows: 10000\n",
      "Insert File: MOVPRODD0619_37.csv Count Rows: 10000\n",
      "Insert File: MOVPRODD0619_38.csv Count Rows: 10000\n",
      "Insert File: MOVPRODD0619_39.csv Count Rows: 10000\n",
      "Insert File: MOVPRODD0619_4.csv Count Rows: 10000\n",
      "Insert File: MOVPRODD0619_40.csv Count Rows: 10000\n",
      "Insert File: MOVPRODD0619_41.csv Count Rows: 10000\n",
      "Insert File: MOVPRODD0619_42.csv Count Rows: 10000\n",
      "Insert File: MOVPRODD0619_43.csv Count Rows: 10000\n",
      "Insert File: MOVPRODD0619_44.csv Count Rows: 8145\n",
      "Insert File: MOVPRODD0619_5.csv Count Rows: 10000\n",
      "Insert File: MOVPRODD0619_6.csv Count Rows: 10000\n",
      "Insert File: MOVPRODD0619_7.csv Count Rows: 10000\n",
      "Insert File: MOVPRODD0619_8.csv Count Rows: 10000\n",
      "Insert File: MOVPRODD0619_9.csv Count Rows: 10000\n"
     ]
    }
   ],
   "source": [
    "path = './data/particional/'\n",
    "\n",
    "for r, p, f in os.walk(path):\n",
    "    for file in f:\n",
    "        saveInDataBase(file)\n",
    "       "
   ]
  }
 ],
 "metadata": {
  "kernelspec": {
   "display_name": "Python 3",
   "language": "python",
   "name": "python3"
  },
  "language_info": {
   "codemirror_mode": {
    "name": "ipython",
    "version": 3
   },
   "file_extension": ".py",
   "mimetype": "text/x-python",
   "name": "python",
   "nbconvert_exporter": "python",
   "pygments_lexer": "ipython3",
   "version": "3.7.1"
  }
 },
 "nbformat": 4,
 "nbformat_minor": 2
}
