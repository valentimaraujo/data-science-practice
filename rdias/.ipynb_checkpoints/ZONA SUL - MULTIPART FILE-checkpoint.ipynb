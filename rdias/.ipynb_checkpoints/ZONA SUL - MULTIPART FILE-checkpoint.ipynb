{
 "cells": [
  {
   "cell_type": "code",
   "execution_count": 2,
   "metadata": {},
   "outputs": [],
   "source": [
    "import os\n",
    "import pandas as pd"
   ]
  },
  {
   "cell_type": "code",
   "execution_count": null,
   "metadata": {},
   "outputs": [],
   "source": [
    "def createFilePart(objDF):\n",
    "    if send == 'database':\n",
    "        objDF.to_sql(name='GO_MOV_PRODUTOS', con=engine, index=False, if_exists='append')    \n",
    "    elif send == 'csv_file':\n",
    "        global countPartition\n",
    "        fileName = 'data/particional/MOVPRODD0619_{}.csv'.format(countPartition)\n",
    "        objDF.to_csv (fileName, index=None, header=True, sep=';')\n",
    "        countPartition = countPartition + 1"
   ]
  },
  {
   "cell_type": "code",
   "execution_count": 6,
   "metadata": {},
   "outputs": [],
   "source": [
    "df = pd.read_csv('./data/zona-sul/dados-titulos-20200512.csv', sep=';', chunksize=4000, encoding='ISO-8859-1')"
   ]
  },
  {
   "cell_type": "code",
   "execution_count": null,
   "metadata": {},
   "outputs": [],
   "source": [
    "for parte in df:"
   ]
  }
 ],
 "metadata": {
  "kernelspec": {
   "display_name": "Python 3",
   "language": "python",
   "name": "python3"
  },
  "language_info": {
   "codemirror_mode": {
    "name": "ipython",
    "version": 3
   },
   "file_extension": ".py",
   "mimetype": "text/x-python",
   "name": "python",
   "nbconvert_exporter": "python",
   "pygments_lexer": "ipython3",
   "version": "3.7.1"
  }
 },
 "nbformat": 4,
 "nbformat_minor": 2
}
