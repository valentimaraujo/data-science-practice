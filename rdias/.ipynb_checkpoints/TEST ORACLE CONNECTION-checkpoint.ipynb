{
 "cells": [
  {
   "cell_type": "code",
   "execution_count": 7,
   "metadata": {},
   "outputs": [],
   "source": [
    "import pandas as pd\n",
    "import datetime\n",
    "from sqlalchemy import create_engine"
   ]
  },
  {
   "cell_type": "code",
   "execution_count": 19,
   "metadata": {},
   "outputs": [],
   "source": [
    "DB_HOST = 'xxx.xxx.x.xx:1521'\n",
    "DB_DATABASE = 'rdiasdb'\n",
    "DB_USER = 'rv4_prod'\n",
    "DB_PASS = 'rv4_prod'\n",
    "ENGINE_CONNECT = \"oracle://{}:{}@{}/{}\".format(DB_USER,DB_PASS,DB_HOST,DB_DATABASE)\n",
    "engine = create_engine(ENGINE_CONNECT, echo=False)"
   ]
  },
  {
   "cell_type": "code",
   "execution_count": 21,
   "metadata": {},
   "outputs": [
    {
     "name": "stdout",
     "output_type": "stream",
     "text": [
      "   COUNT(*)\n",
      "0    695383\n"
     ]
    }
   ],
   "source": [
    "documents = pd.read_sql(\"SELECT COUNT(*) FROM DOCUMENTS ORDER BY CREATEAT\",engine)\n",
    "print(documents)\n",
    "#for index, row in documents.iterrows():\n",
    "   # print(row.RELATIVE_PATH)"
   ]
  }
 ],
 "metadata": {
  "kernelspec": {
   "display_name": "Python 3",
   "language": "python",
   "name": "python3"
  },
  "language_info": {
   "codemirror_mode": {
    "name": "ipython",
    "version": 3
   },
   "file_extension": ".py",
   "mimetype": "text/x-python",
   "name": "python",
   "nbconvert_exporter": "python",
   "pygments_lexer": "ipython3",
   "version": "3.7.1"
  }
 },
 "nbformat": 4,
 "nbformat_minor": 2
}
