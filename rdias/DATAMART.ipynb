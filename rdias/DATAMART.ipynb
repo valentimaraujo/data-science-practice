{
 "cells": [
  {
   "cell_type": "code",
   "execution_count": 1,
   "metadata": {},
   "outputs": [],
   "source": [
    "import pandas as pd\n",
    "import datetime\n",
    "from sqlalchemy import create_engine"
   ]
  },
  {
   "cell_type": "code",
   "execution_count": 2,
   "metadata": {},
   "outputs": [],
   "source": [
    "DB_HOST = 'xxx.xxx.x.xxx:xxxx'\n",
    "DB_DATABASE = 'rdiasdb'\n",
    "DB_USER = 'rv4_prod'\n",
    "DB_PASS = 'rv4_prod'\n",
    "ENGINE_CONECT = \"oracle://{}:{}@{}/{}\".format(DB_USER, DB_PASS, DB_HOST, DB_DATABASE)\n",
    "engine = create_engine(ENGINE_CONECT, echo=False)"
   ]
  },
  {
   "cell_type": "code",
   "execution_count": 3,
   "metadata": {},
   "outputs": [],
   "source": [
    "countPartition = 0"
   ]
  },
  {
   "cell_type": "code",
   "execution_count": 4,
   "metadata": {},
   "outputs": [],
   "source": [
    "df = pd.read_csv('data/MOVPRODD0619.csv', sep=';', dtype={\n",
    "    'mprd_unid_codigo': 'object', 'mprd_transacao': 'object', 'mprd_status': 'object', 'mprd_dcto_tipo': 'object', \n",
    "    'mprd_fatorestoque':'float64', 'mprd_oferta': 'object'\n",
    "}, chunksize=10000)"
   ]
  },
  {
   "cell_type": "code",
   "execution_count": 5,
   "metadata": {},
   "outputs": [],
   "source": [
    "def fieldsStandardization(objDF):\n",
    "    objDF['mprd_valorbcbruto'].fillna(0, inplace=True)\n",
    "    objDF['mprd_fatorestoque'].fillna(0, inplace=True)\n",
    "    objDF['mprd_codestoque'].fillna(0, inplace=True)\n",
    "    objDF.fillna('', inplace=True)\n",
    "    \n",
    "    return objDF"
   ]
  },
  {
   "cell_type": "code",
   "execution_count": 6,
   "metadata": {},
   "outputs": [],
   "source": [
    "def setStoreId(objDF):\n",
    "    stores = objDF['mprd_unid_codigo'].unique()\n",
    "    stores = str = \"'\" + \"', '\".join(stores) + \"'\"\n",
    "    SQL_STORE = \"SELECT NOME, ID FROM BASE_ENTIDADES WHERE NOME IN(%s) GROUP BY NOME, ID\" %  stores\n",
    "    storesIds = pd.read_sql(SQL_STORE, engine)\n",
    "\n",
    "    ids = {}\n",
    "    for index, row in storesIds.iterrows():\n",
    "        ids[row.nome] = row.id\n",
    "        \n",
    "    objDF['loja_id'] = objDF['mprd_unid_codigo'].apply(lambda x: ids.get(x,x))\n",
    "    \n",
    "    return objDF"
   ]
  },
  {
   "cell_type": "code",
   "execution_count": 7,
   "metadata": {},
   "outputs": [],
   "source": [
    "def addManualFields(objDF, send):\n",
    "    if send == 'database':\n",
    "        objDF['createat'] = datetime.datetime.now()\n",
    "        objDF['updateat'] = datetime.datetime.now()\n",
    "    \n",
    "    objDF['cliente_id'] = 1387915\n",
    "    objDF['id_processo'] = 9999\n",
    "    objDF['status_processo'] = 0\n",
    "    objDF['mprd_datamvto'] = objDF['mprd_datamvto'].apply(lambda x: datetime.datetime.strptime(x, '%Y-%m-%d'))\n",
    "    objDF['prod_marca'] = objDF['prod_marca'].map(lambda x: x.encode('unicode-escape').decode('utf-8'))\n",
    "    \n",
    "    return objDF"
   ]
  },
  {
   "cell_type": "code",
   "execution_count": 8,
   "metadata": {},
   "outputs": [],
   "source": [
    "def sendTo(objDF, send):\n",
    "    if send == 'database':\n",
    "        objDF.to_sql(name='GO_MOV_PRODUTOS', con=engine, index=False, if_exists='append')    \n",
    "    elif send == 'csv_file':\n",
    "        global countPartition\n",
    "        fileName = 'data/particional/MOVPRODD0619_{}.csv'.format(countPartition)\n",
    "        objDF.to_csv (fileName, index=None, header=True, sep=';')\n",
    "        countPartition = countPartition + 1"
   ]
  },
  {
   "cell_type": "code",
   "execution_count": 9,
   "metadata": {},
   "outputs": [
    {
     "name": "stdout",
     "output_type": "stream",
     "text": [
      "==>>>> Insert 10000 rows\n",
      "==>>>> Insert 10000 rows\n",
      "==>>>> Insert 10000 rows\n",
      "==>>>> Insert 10000 rows\n",
      "==>>>> Insert 10000 rows\n",
      "==>>>> Insert 10000 rows\n",
      "==>>>> Insert 10000 rows\n",
      "==>>>> Insert 10000 rows\n",
      "==>>>> Insert 10000 rows\n",
      "==>>>> Insert 10000 rows\n",
      "==>>>> Insert 10000 rows\n",
      "==>>>> Insert 10000 rows\n",
      "==>>>> Insert 10000 rows\n",
      "==>>>> Insert 10000 rows\n",
      "==>>>> Insert 10000 rows\n",
      "==>>>> Insert 10000 rows\n",
      "==>>>> Insert 10000 rows\n",
      "==>>>> Insert 10000 rows\n",
      "==>>>> Insert 10000 rows\n",
      "==>>>> Insert 10000 rows\n",
      "==>>>> Insert 10000 rows\n",
      "==>>>> Insert 10000 rows\n",
      "==>>>> Insert 10000 rows\n",
      "==>>>> Insert 10000 rows\n",
      "==>>>> Insert 10000 rows\n",
      "==>>>> Insert 10000 rows\n",
      "==>>>> Insert 10000 rows\n",
      "==>>>> Insert 10000 rows\n",
      "==>>>> Insert 10000 rows\n",
      "==>>>> Insert 10000 rows\n",
      "==>>>> Insert 10000 rows\n",
      "==>>>> Insert 10000 rows\n",
      "==>>>> Insert 10000 rows\n",
      "==>>>> Insert 10000 rows\n",
      "==>>>> Insert 10000 rows\n",
      "==>>>> Insert 10000 rows\n",
      "==>>>> Insert 10000 rows\n",
      "==>>>> Insert 10000 rows\n",
      "==>>>> Insert 10000 rows\n",
      "==>>>> Insert 10000 rows\n",
      "==>>>> Insert 10000 rows\n",
      "==>>>> Insert 10000 rows\n",
      "==>>>> Insert 10000 rows\n",
      "==>>>> Insert 10000 rows\n",
      "==>>>> Insert 8145 rows\n"
     ]
    }
   ],
   "source": [
    "send = 'csv_file'\n",
    "for parte in df:\n",
    "    if sendTo == 'database':\n",
    "        clearDF = fieldsStandardization(parte)\n",
    "    else:\n",
    "        clearDF = parte\n",
    "        \n",
    "    clearDF = setStoreId(clearDF)\n",
    "    clearDF = addManualFields(clearDF, send)\n",
    "    sendTo(clearDF, send)\n",
    "    print(\"==>>>> Insert {} rows\".format(len(clearDF)))"
   ]
  }
 ],
 "metadata": {
  "kernelspec": {
   "display_name": "Python 3",
   "language": "python",
   "name": "python3"
  },
  "language_info": {
   "codemirror_mode": {
    "name": "ipython",
    "version": 3
   },
   "file_extension": ".py",
   "mimetype": "text/x-python",
   "name": "python",
   "nbconvert_exporter": "python",
   "pygments_lexer": "ipython3",
   "version": "3.7.1"
  }
 },
 "nbformat": 4,
 "nbformat_minor": 2
}
