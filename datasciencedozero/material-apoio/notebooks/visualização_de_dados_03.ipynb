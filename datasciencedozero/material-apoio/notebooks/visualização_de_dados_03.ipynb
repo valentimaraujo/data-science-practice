{
 "cells": [
  {
   "cell_type": "markdown",
   "metadata": {
    "colab_type": "text",
    "id": "GgUHLmxk7Ga5"
   },
   "source": [
    "# Minerando Dados  - ** Visualização de Dados **"
   ]
  },
  {
   "cell_type": "markdown",
   "metadata": {
    "colab_type": "text",
    "id": "t_ak8TC67Ga7"
   },
   "source": [
    "**Trabalhando com Seaborn**"
   ]
  },
  {
   "cell_type": "markdown",
   "metadata": {
    "colab_type": "text",
    "id": "quprP4gvB-46"
   },
   "source": [
    "* Biblioteca para visualização de dados baseado em Matplotlib.\n",
    "* Interface de alto nível para gráficos estatísticos.\n",
    "* Fornece uma interface atraente e profissional para os gráficos.\n",
    "* Simples e muito intuitiva de usar."
   ]
  },
  {
   "cell_type": "markdown",
   "metadata": {
    "colab_type": "text",
    "id": "5wwF0C_4Ads6"
   },
   "source": [
    "**Quando utilizar?**\n",
    "\n",
    "* Útil para análise e exploração de dados.\n",
    "* Apresentar análises visuais."
   ]
  },
  {
   "cell_type": "markdown",
   "metadata": {
    "colab_type": "text",
    "id": "bcHc_rbG1Npv"
   },
   "source": [
    "## Carregando Dataset"
   ]
  },
  {
   "cell_type": "code",
   "execution_count": null,
   "metadata": {
    "colab": {},
    "colab_type": "code",
    "id": "3dlF_E_e9UKf"
   },
   "outputs": [],
   "source": [
    "import seaborn as sns"
   ]
  },
  {
   "cell_type": "code",
   "execution_count": null,
   "metadata": {
    "colab": {
     "base_uri": "https://localhost:8080/",
     "height": 369
    },
    "colab_type": "code",
    "id": "TdwFaXTf6U9S",
    "outputId": "1a84f24c-dc32-46af-bf70-37630d4c1253"
   },
   "outputs": [],
   "source": [
    "tips = sns.load_dataset(\"tips\")"
   ]
  },
  {
   "cell_type": "markdown",
   "metadata": {
    "colab_type": "text",
    "id": "eASc7Rxe1NrN"
   },
   "source": [
    "## Plotando dados categóricos"
   ]
  },
  {
   "cell_type": "markdown",
   "metadata": {
    "colab_type": "text",
    "id": "nwWLMQuc1NrR"
   },
   "source": [
    "* Quando trabalhamos com variáveis categóricas temos que visualizar dados de formas diferentes.\n",
    "* O Seaborn fornece o método catplot() que já contém diversos tipos de gráficos embutidos.\n",
    "* Isso facilita, pois, você pode usar diferentes gráficos usando um mesmo método.\n"
   ]
  },
  {
   "cell_type": "markdown",
   "metadata": {
    "colab_type": "text",
    "id": "dA0shKsL1NrR"
   },
   "source": [
    "**Gráficos de barras ou também conhecidos como gráficos de colunas**"
   ]
  },
  {
   "cell_type": "code",
   "execution_count": null,
   "metadata": {
    "colab": {
     "base_uri": "https://localhost:8080/",
     "height": 369
    },
    "colab_type": "code",
    "id": "7mG0_6BY1NrT",
    "outputId": "dff85421-24ae-4ca9-ec63-be128aa17590"
   },
   "outputs": [],
   "source": [
    "sns.catplot(x=\"sex\", kind=\"count\", palette=\"Set2\", data=tips);"
   ]
  },
  {
   "cell_type": "markdown",
   "metadata": {
    "colab_type": "text",
    "id": "PUjuNfa41NrW"
   },
   "source": [
    "** Gráfico de barras horizontais usando a coluna *day* **"
   ]
  },
  {
   "cell_type": "code",
   "execution_count": null,
   "metadata": {
    "colab": {
     "base_uri": "https://localhost:8080/",
     "height": 383
    },
    "colab_type": "code",
    "id": "2P0cjZII1NrX",
    "outputId": "79b0e72d-1db0-4ed5-903a-24a7c57d83d3"
   },
   "outputs": [],
   "source": [
    "sns.catplot(y=\"day\", kind=\"count\", palette=\"Set1\", data=tips);"
   ]
  },
  {
   "cell_type": "markdown",
   "metadata": {
    "colab_type": "text",
    "id": "TquqCX5c1Nrc"
   },
   "source": [
    "**Scatter plot com dados categóricos**"
   ]
  },
  {
   "cell_type": "code",
   "execution_count": null,
   "metadata": {
    "colab": {
     "base_uri": "https://localhost:8080/",
     "height": 369
    },
    "colab_type": "code",
    "id": "wFB1kazx1Nrc",
    "outputId": "e63fad2d-a190-4087-a208-d510c0b849de"
   },
   "outputs": [],
   "source": [
    "sns.catplot(x=\"day\", y=\"total_bill\", palette=\"Set2\", data=tips);"
   ]
  },
  {
   "cell_type": "markdown",
   "metadata": {
    "colab_type": "text",
    "id": "0T-J8_MX1Nrh"
   },
   "source": [
    "**O parâmetro swarm evita sobreposição de pontos**"
   ]
  },
  {
   "cell_type": "code",
   "execution_count": null,
   "metadata": {
    "colab": {},
    "colab_type": "code",
    "id": "25FacuMt1Nri",
    "outputId": "d09ed4f8-2a17-48d3-b076-c3871df483c4"
   },
   "outputs": [],
   "source": [
    "sns.catplot(x=\"day\", y=\"total_bill\", kind='swarm', data=tips);"
   ]
  },
  {
   "cell_type": "markdown",
   "metadata": {
    "colab_type": "text",
    "id": "L3-bOgIp1Nrm"
   },
   "source": [
    "**O parâmetro hue permite adicionarmos uma terceira variável a nossa visualização**"
   ]
  },
  {
   "cell_type": "code",
   "execution_count": null,
   "metadata": {
    "colab": {
     "base_uri": "https://localhost:8080/",
     "height": 369
    },
    "colab_type": "code",
    "id": "9157pNYZ1Nrr",
    "outputId": "643e8b50-0a6a-4d7d-9edb-de3e12c4418a"
   },
   "outputs": [],
   "source": [
    "sns.catplot(x=\"day\", y=\"total_bill\", kind='swarm', hue=\"sex\", palette=\"Dark2\", data=tips);"
   ]
  },
  {
   "cell_type": "markdown",
   "metadata": {
    "colab_type": "text",
    "id": "lKNxRq0w1Nrt"
   },
   "source": [
    "* O parametro **order** permite alterarmos a ordem padrão das categorias que estão sendo exibidas.\n",
    "\n",
    "* Isso é útil quando temos mais um gráfico na mesma figura e queremos manter as mesmas ordens."
   ]
  },
  {
   "cell_type": "code",
   "execution_count": null,
   "metadata": {
    "colab": {},
    "colab_type": "code",
    "id": "YgcYRuij1Nru",
    "outputId": "0e09bbcb-2858-4dad-b6b8-de788f147929"
   },
   "outputs": [],
   "source": [
    "sns.catplot(x=\"day\", y=\"total_bill\", kind='swarm', hue=\"sex\", order=['Sat','Sun','Fri','Thur'], data=tips);"
   ]
  },
  {
   "cell_type": "markdown",
   "metadata": {
    "colab_type": "text",
    "id": "W_zIAwYo1Nrx"
   },
   "source": [
    "**Invertendo a visualização para plots horizontais**"
   ]
  },
  {
   "cell_type": "code",
   "execution_count": null,
   "metadata": {
    "colab": {},
    "colab_type": "code",
    "id": "mp29m5y11Nrx",
    "outputId": "64c816db-3c74-48c2-f818-f25b57eba809"
   },
   "outputs": [],
   "source": [
    "sns.catplot(x=\"total_bill\", y=\"day\", kind=\"swarm\", data=tips);"
   ]
  },
  {
   "cell_type": "markdown",
   "metadata": {
    "colab_type": "text",
    "id": "cWNqnQI81Nqx"
   },
   "source": [
    "## Gráficos com Regressão"
   ]
  },
  {
   "cell_type": "markdown",
   "metadata": {
    "colab_type": "text",
    "id": "C7ugRukC1Nqy"
   },
   "source": [
    "* Quando temos muitas variáveis quantitativas em nossos dados é interessante visualizar como estas se relacionam.\n",
    "* Podemos visualizar essas informações com linhas de regressão.\n",
    "* Com modelos de regressão simples é possível checar se existe alguma **correlacão** entre algumas variáveis."
   ]
  },
  {
   "cell_type": "code",
   "execution_count": null,
   "metadata": {
    "colab": {},
    "colab_type": "code",
    "id": "PB-7PP3q1Nqy"
   },
   "outputs": [],
   "source": [
    "import seaborn as sns\n",
    "tips = sns.load_dataset(\"tips\")"
   ]
  },
  {
   "cell_type": "markdown",
   "metadata": {
    "colab_type": "text",
    "id": "mWnNOFkS1Nq7"
   },
   "source": [
    "**Exibe a linha de regressão para visualizar correladdção entre as variáveis**"
   ]
  },
  {
   "cell_type": "code",
   "execution_count": null,
   "metadata": {
    "colab": {},
    "colab_type": "code",
    "id": "gUK0EJFR1Nq7",
    "outputId": "b5944a92-93f8-4006-c668-78cc0911aef2"
   },
   "outputs": [],
   "source": [
    "%matplotlib inline\n",
    "sns.lmplot(x=\"total_bill\", y=\"tip\", hue=\"sex\", palette=\"Pastel1\", data=tips);"
   ]
  },
  {
   "cell_type": "markdown",
   "metadata": {
    "colab_type": "text",
    "id": "_VwvQUh81Nq_"
   },
   "source": [
    "** Usando o parâmetro col para segregar os gráficos pelo valor da coluna categórica *time* **"
   ]
  },
  {
   "cell_type": "code",
   "execution_count": null,
   "metadata": {
    "colab": {},
    "colab_type": "code",
    "id": "swxu06_y1NrA",
    "outputId": "7992cbfd-4d65-4fbd-9e13-9a3860f005b4"
   },
   "outputs": [],
   "source": [
    "%matplotlib inline\n",
    "sns.lmplot(x=\"total_bill\",y=\"tip\", hue=\"smoker\", col=\"time\", palette=\"Set2\", data=tips);"
   ]
  },
  {
   "cell_type": "markdown",
   "metadata": {
    "colab_type": "text",
    "id": "HR1SsOFs1NrE"
   },
   "source": [
    "**Parâmetros scatter_kws e line_kws**"
   ]
  },
  {
   "cell_type": "code",
   "execution_count": null,
   "metadata": {
    "colab": {},
    "colab_type": "code",
    "id": "w7AE7sj91NrF",
    "outputId": "9af79d1c-5ed2-40be-ced0-4f4459ed0b62"
   },
   "outputs": [],
   "source": [
    "%matplotlib inline\n",
    "sns.lmplot(x=\"total_bill\",\n",
    "           y=\"tip\", \n",
    "           hue=\"smoker\", \n",
    "           col=\"time\", \n",
    "           palette=\"Set1\",\n",
    "           data=tips, \n",
    "           scatter_kws={'s': 90, 'alpha': 0.5},\n",
    "           line_kws={'lw': 4});"
   ]
  },
  {
   "cell_type": "markdown",
   "metadata": {
    "colab_type": "text",
    "id": "ZonrKTen1NrI"
   },
   "source": [
    "** Segregando gráficos pelo parâmetro *col* e pelo parâmetro *row* **"
   ]
  },
  {
   "cell_type": "code",
   "execution_count": null,
   "metadata": {
    "colab": {},
    "colab_type": "code",
    "id": "pBsXDjT1Hgq8",
    "outputId": "7a74d887-4b6a-447f-f203-9f2a6a27ab41"
   },
   "outputs": [],
   "source": [
    "%matplotlib inline\n",
    "sns.lmplot(x=\"total_bill\", y=\"tip\", hue=\"smoker\",col=\"time\", row=\"sex\", palette=\"Set2\", data=tips);"
   ]
  },
  {
   "cell_type": "markdown",
   "metadata": {
    "colab_type": "text",
    "id": "NozPhe_g1Nr1"
   },
   "source": [
    "## Visualizando distribuição de observações"
   ]
  },
  {
   "cell_type": "markdown",
   "metadata": {
    "colab": {},
    "colab_type": "code",
    "id": "p73RhuL-1Nr2"
   },
   "source": [
    "* Um dataset muito grande será difícil de visualizar variáveis categóricas.\n",
    "* É preciso sumarizar a distribuição dos dados para facilitar a visualização.\n",
    "* Podemos usar um gráfico do tipo Boxplot para visualizar a distribuição de tais variáveis.\n",
    "* Esse tipo de gráfico é muito útil para visualizar ***Outliers***."
   ]
  },
  {
   "cell_type": "markdown",
   "metadata": {},
   "source": [
    "** Boxplot de Dias da semana por total de conta**"
   ]
  },
  {
   "cell_type": "code",
   "execution_count": null,
   "metadata": {
    "colab": {
     "base_uri": "https://localhost:8080/",
     "height": 369
    },
    "colab_type": "code",
    "id": "rlZcd-Aa1Nr6",
    "outputId": "85e90817-89a9-4581-913e-cb734823e533"
   },
   "outputs": [],
   "source": [
    "sns.catplot(x=\"day\", y=\"total_bill\", kind=\"box\", data=tips);"
   ]
  },
  {
   "cell_type": "markdown",
   "metadata": {},
   "source": [
    "** Gráfico de Boxplot dos dias por total de conta e se a pessoa é fumante ou não.**"
   ]
  },
  {
   "cell_type": "code",
   "execution_count": null,
   "metadata": {
    "colab": {
     "base_uri": "https://localhost:8080/",
     "height": 369
    },
    "colab_type": "code",
    "id": "TmkL0oeY1Nr8",
    "outputId": "fc6f371e-4d90-43ce-cc33-38fb0b7195f9"
   },
   "outputs": [],
   "source": [
    "sns.catplot(x=\"day\", y=\"total_bill\", hue=\"smoker\", kind=\"box\", data=tips);"
   ]
  },
  {
   "cell_type": "markdown",
   "metadata": {},
   "source": [
    "* Tipo de Boxplot com foco maior na forma dos dados do que nos outliers.\n",
    "* Esse tipo de gráfico é interessante quando temos grandes datasets."
   ]
  },
  {
   "cell_type": "code",
   "execution_count": null,
   "metadata": {
    "colab": {},
    "colab_type": "code",
    "id": "ZLj7Xya51NsA",
    "scrolled": false
   },
   "outputs": [],
   "source": [
    "sns.catplot(x=\"day\", y=\"total_bill\", kind=\"boxen\", data=tips);"
   ]
  },
  {
   "cell_type": "markdown",
   "metadata": {},
   "source": [
    "* O Método stripplot permite plotar a distribuição dos dados.\n",
    "* Podemos combinar os dois gráficos para ter mais informação."
   ]
  },
  {
   "cell_type": "code",
   "execution_count": null,
   "metadata": {
    "colab": {},
    "colab_type": "code",
    "id": "ZLj7Xya51NsA",
    "scrolled": false
   },
   "outputs": [],
   "source": [
    "sns.catplot(x=\"day\", y=\"total_bill\", kind=\"boxen\", data=tips);\n",
    "sns.stripplot(x=\"day\", y=\"total_bill\", data=tips, color=\"blue\");"
   ]
  },
  {
   "cell_type": "markdown",
   "metadata": {},
   "source": [
    "**O método catplot() permite usarmos facetgrid assim podemos combinar gráficos em uma única figura**"
   ]
  },
  {
   "cell_type": "code",
   "execution_count": null,
   "metadata": {},
   "outputs": [],
   "source": [
    "%matplotlib inline\n",
    "sns.catplot(x=\"sex\", y=\"total_bill\", hue=\"smoker\", col=\"time\", data=tips, kind=\"boxen\",height=4);"
   ]
  },
  {
   "cell_type": "markdown",
   "metadata": {},
   "source": [
    "## Violin Plot\n",
    "\n",
    "* Gráficos que ideal para visualizar a distribuição de variáveis.\n",
    "* Combinação do Boxplot com o KDE.\n",
    "* Funciona bem para distribuições com picos.\n",
    "* Permite uma visualização mais rica do que com o Boxplot normal."
   ]
  },
  {
   "cell_type": "markdown",
   "metadata": {},
   "source": [
    "**Violin Plot**"
   ]
  },
  {
   "cell_type": "code",
   "execution_count": null,
   "metadata": {},
   "outputs": [],
   "source": [
    "sns.catplot(x=\"day\", y=\"total_bill\", kind=\"violin\", data=tips)"
   ]
  },
  {
   "cell_type": "markdown",
   "metadata": {},
   "source": [
    "**Violin Plot horizontal**"
   ]
  },
  {
   "cell_type": "code",
   "execution_count": null,
   "metadata": {},
   "outputs": [],
   "source": [
    "sns.catplot(x=\"total_bill\", y=\"day\", kind=\"violin\", data=tips)"
   ]
  },
  {
   "cell_type": "markdown",
   "metadata": {},
   "source": [
    "**Usando o parâmetro Hue para ter uma terceira variável **"
   ]
  },
  {
   "cell_type": "code",
   "execution_count": null,
   "metadata": {},
   "outputs": [],
   "source": [
    "sns.catplot(x=\"day\", y=\"total_bill\", hue=\"time\", kind=\"violin\", data=tips);"
   ]
  },
  {
   "cell_type": "markdown",
   "metadata": {},
   "source": [
    "* **É possível dividir o violin plot com o parâmetro split.**\n",
    "* **Isso é útil quando temos muitos dados para exibir.**"
   ]
  },
  {
   "cell_type": "code",
   "execution_count": null,
   "metadata": {},
   "outputs": [],
   "source": [
    "sns.catplot(x=\"day\", y=\"total_bill\", hue=\"sex\", split=True , kind=\"violin\", data=tips);"
   ]
  },
  {
   "cell_type": "markdown",
   "metadata": {},
   "source": [
    "* **Usando o parametro inner para preencher o violin plot com observações**\n",
    "* **Útil para destacar bem as partes que possuem mais dados**"
   ]
  },
  {
   "cell_type": "code",
   "execution_count": null,
   "metadata": {},
   "outputs": [],
   "source": [
    "sns.catplot(x=\"day\", y=\"total_bill\", hue=\"sex\", split=True , inner=\"stick\", palette=\"pastel\", kind=\"violin\", data=tips);"
   ]
  },
  {
   "cell_type": "markdown",
   "metadata": {},
   "source": [
    "* **Podemos combinar também um gráfico de swarm com o Violin Plot**\n",
    "* **Dessa forma fica mais explicito ainda a frequencia de pontos nas partes do \"violino\"**\n"
   ]
  },
  {
   "cell_type": "code",
   "execution_count": null,
   "metadata": {},
   "outputs": [],
   "source": [
    "sns.catplot(x=\"day\", y=\"total_bill\", palette=\"pastel\", kind=\"violin\", data=tips);\n",
    "sns.swarmplot(x=\"day\", y=\"total_bill\", color=\"k\", size=3, data=tips)"
   ]
  },
  {
   "cell_type": "markdown",
   "metadata": {},
   "source": [
    "## Visualizando a distribuição de um Dataset"
   ]
  },
  {
   "cell_type": "markdown",
   "metadata": {},
   "source": [
    "**Histograma**\n",
    "\n",
    "* O método histograma tenta encontrar a melhor quantidade de bins."
   ]
  },
  {
   "cell_type": "code",
   "execution_count": null,
   "metadata": {},
   "outputs": [],
   "source": [
    "sns.set(color_codes=True)"
   ]
  },
  {
   "cell_type": "code",
   "execution_count": null,
   "metadata": {},
   "outputs": [],
   "source": [
    "sns.distplot(tips.total_bill, kde=False)"
   ]
  },
  {
   "cell_type": "markdown",
   "metadata": {},
   "source": [
    "**Plotando um histograma para uma distribuição normal**"
   ]
  },
  {
   "cell_type": "markdown",
   "metadata": {},
   "source": [
    "* Importa o Numpy para geração aleatoria de dados"
   ]
  },
  {
   "cell_type": "code",
   "execution_count": null,
   "metadata": {},
   "outputs": [],
   "source": [
    "import numpy as np"
   ]
  },
  {
   "cell_type": "markdown",
   "metadata": {},
   "source": [
    "* Gera 100 valores aleatorios em uma distribuição normal"
   ]
  },
  {
   "cell_type": "code",
   "execution_count": null,
   "metadata": {},
   "outputs": [],
   "source": [
    "x = np.random.normal(size=100)"
   ]
  },
  {
   "cell_type": "markdown",
   "metadata": {},
   "source": [
    "* Mostra Dados aleatorios na variável **x**"
   ]
  },
  {
   "cell_type": "code",
   "execution_count": null,
   "metadata": {},
   "outputs": [],
   "source": [
    "x"
   ]
  },
  {
   "cell_type": "markdown",
   "metadata": {},
   "source": [
    "* Plota o histograma para a variável x"
   ]
  },
  {
   "cell_type": "code",
   "execution_count": null,
   "metadata": {},
   "outputs": [],
   "source": [
    "sns.distplot(x);"
   ]
  },
  {
   "cell_type": "markdown",
   "metadata": {},
   "source": [
    "**Plota o Histograma com bins=20 e KDE=True**"
   ]
  },
  {
   "cell_type": "code",
   "execution_count": null,
   "metadata": {},
   "outputs": [],
   "source": [
    "sns.distplot(tips.total_bill, bins=50, kde=True)"
   ]
  },
  {
   "cell_type": "markdown",
   "metadata": {},
   "source": [
    "**Visualizando apenas o KDE**"
   ]
  },
  {
   "cell_type": "code",
   "execution_count": null,
   "metadata": {},
   "outputs": [],
   "source": [
    "sns.distplot(tips.total_bill, hist=False)"
   ]
  },
  {
   "cell_type": "markdown",
   "metadata": {},
   "source": [
    "** Parâmetro rug**"
   ]
  },
  {
   "cell_type": "code",
   "execution_count": null,
   "metadata": {},
   "outputs": [],
   "source": [
    "sns.distplot(tips.total_bill, hist=True, rug=True)"
   ]
  },
  {
   "cell_type": "markdown",
   "metadata": {},
   "source": [
    "## Jointplot (ScatterPlot e Histograma)"
   ]
  },
  {
   "cell_type": "markdown",
   "metadata": {},
   "source": [
    "* Quando queremos ver a distribuição de duas variáveis podemos usar o jointplot.\n",
    "* União de gráficos do tipo Scatter Plot e Histogramas para as duas variáveis.\n",
    "* Mostra o Scatter plot para as duas variáveis e um histograma para cada variável separadamente."
   ]
  },
  {
   "cell_type": "code",
   "execution_count": null,
   "metadata": {},
   "outputs": [],
   "source": [
    "sns.jointplot(x=\"tip\", y=\"total_bill\", color='r', data=tips)"
   ]
  },
  {
   "cell_type": "markdown",
   "metadata": {},
   "source": [
    "## Hexbin Plots"
   ]
  },
  {
   "cell_type": "markdown",
   "metadata": {},
   "source": [
    "* Adequado para visualização de grande conjuntos de dados.\n",
    "* Tende a funcionar melhor com as cores em branco de fundo"
   ]
  },
  {
   "cell_type": "code",
   "execution_count": null,
   "metadata": {},
   "outputs": [],
   "source": [
    "sns.jointplot(x=\"tip\", y=\"total_bill\", color='r', kind=\"hex\", data=tips)"
   ]
  },
  {
   "cell_type": "markdown",
   "metadata": {},
   "source": [
    "**Usando o KDE para Plotar mais de uma variável**"
   ]
  },
  {
   "cell_type": "code",
   "execution_count": null,
   "metadata": {},
   "outputs": [],
   "source": [
    "sns.jointplot(x=\"tip\", y=\"total_bill\", color='b', kind=\"kde\", data=tips)"
   ]
  },
  {
   "cell_type": "markdown",
   "metadata": {},
   "source": [
    "## Visualizando relacionamentos emparelhados"
   ]
  },
  {
   "cell_type": "markdown",
   "metadata": {},
   "source": [
    "* Plot multiplas variáveis de um dataset.\n",
    "* Cria uma matriz de eixos de mostrar a relação de cada par de colunas no dataframe.\n",
    "* Por padrão plota também um histograma de cada coluna no dataframe na diagonal da matriz."
   ]
  },
  {
   "cell_type": "code",
   "execution_count": null,
   "metadata": {},
   "outputs": [],
   "source": [
    "sns.pairplot(tips);"
   ]
  },
  {
   "cell_type": "markdown",
   "metadata": {},
   "source": [
    "** Carrega o dataset iris**"
   ]
  },
  {
   "cell_type": "code",
   "execution_count": null,
   "metadata": {},
   "outputs": [],
   "source": [
    "iris = sns.load_dataset(\"iris\")"
   ]
  },
  {
   "cell_type": "code",
   "execution_count": null,
   "metadata": {},
   "outputs": [],
   "source": [
    "iris.head()"
   ]
  },
  {
   "cell_type": "markdown",
   "metadata": {},
   "source": [
    "**Plot pares emparelhados segregando pela coluna species**"
   ]
  },
  {
   "cell_type": "code",
   "execution_count": null,
   "metadata": {},
   "outputs": [],
   "source": [
    "sns.pairplot(iris, hue=\"species\", palette=\"Set1\");"
   ]
  },
  {
   "cell_type": "markdown",
   "metadata": {},
   "source": [
    "** Plotando Scatter plots com regressão**"
   ]
  },
  {
   "cell_type": "code",
   "execution_count": null,
   "metadata": {},
   "outputs": [],
   "source": [
    "sns.pairplot(iris, kind=\"reg\");"
   ]
  },
  {
   "cell_type": "markdown",
   "metadata": {},
   "source": [
    "** Plotando histogramas na diagonal**"
   ]
  },
  {
   "cell_type": "code",
   "execution_count": null,
   "metadata": {},
   "outputs": [],
   "source": [
    "sns.pairplot(iris,hue=\"species\", diag_kind=\"hist\");"
   ]
  },
  {
   "cell_type": "markdown",
   "metadata": {},
   "source": [
    "**Plotando apenas duas colunas do dataframe**"
   ]
  },
  {
   "cell_type": "code",
   "execution_count": null,
   "metadata": {},
   "outputs": [],
   "source": [
    "sns.pairplot(iris, hue=\"species\", vars=[\"sepal_width\", \"sepal_length\"], palette=\"husl\");"
   ]
  },
  {
   "cell_type": "markdown",
   "metadata": {},
   "source": [
    "## Gráficos de Correlação"
   ]
  },
  {
   "cell_type": "markdown",
   "metadata": {},
   "source": [
    "* Útil para visualizar se existem correlações positivas ou negativas entre colunas\n",
    "* Método corr() do pandas possibilita calcular correlação por tipo **spearman** ou **pearson**"
   ]
  },
  {
   "cell_type": "code",
   "execution_count": null,
   "metadata": {},
   "outputs": [],
   "source": [
    "correlacoes = tips.corr()"
   ]
  },
  {
   "cell_type": "code",
   "execution_count": null,
   "metadata": {},
   "outputs": [],
   "source": [
    "correlacoes"
   ]
  },
  {
   "cell_type": "code",
   "execution_count": null,
   "metadata": {},
   "outputs": [],
   "source": [
    "ax = sns.heatmap(correlacoes)"
   ]
  },
  {
   "cell_type": "markdown",
   "metadata": {},
   "source": [
    "**Exibe os valores de correlação**"
   ]
  },
  {
   "cell_type": "code",
   "execution_count": null,
   "metadata": {},
   "outputs": [],
   "source": [
    "ax = sns.heatmap(correlacoes, annot=True)"
   ]
  },
  {
   "cell_type": "markdown",
   "metadata": {},
   "source": [
    "** Visualizando a correlação de colunas do Dataframe Iris**"
   ]
  },
  {
   "cell_type": "code",
   "execution_count": null,
   "metadata": {},
   "outputs": [],
   "source": [
    "correlacoes = iris.corr()"
   ]
  },
  {
   "cell_type": "code",
   "execution_count": null,
   "metadata": {},
   "outputs": [],
   "source": [
    "correlacoes"
   ]
  },
  {
   "cell_type": "code",
   "execution_count": null,
   "metadata": {},
   "outputs": [],
   "source": [
    "ax = sns.heatmap(correlacoes, cmap='PuOr', annot=True)"
   ]
  }
 ],
 "metadata": {
  "colab": {
   "name": "visualização_de_dados_02.ipynb",
   "provenance": [],
   "version": "0.3.2"
  },
  "kernelspec": {
   "display_name": "Python 3",
   "language": "python",
   "name": "python3"
  },
  "language_info": {
   "codemirror_mode": {
    "name": "ipython",
    "version": 3
   },
   "file_extension": ".py",
   "mimetype": "text/x-python",
   "name": "python",
   "nbconvert_exporter": "python",
   "pygments_lexer": "ipython3",
   "version": "3.6.8"
  }
 },
 "nbformat": 4,
 "nbformat_minor": 1
}
