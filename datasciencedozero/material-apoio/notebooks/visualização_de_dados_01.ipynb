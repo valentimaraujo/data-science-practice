{
 "cells": [
  {
   "cell_type": "markdown",
   "metadata": {
    "colab_type": "text",
    "id": "GgUHLmxk7Ga5"
   },
   "source": [
    "# Minerando Dados  - ** Visualização de Dados **"
   ]
  },
  {
   "cell_type": "markdown",
   "metadata": {
    "colab_type": "text",
    "id": "t_ak8TC67Ga7"
   },
   "source": [
    "**Trabalhando com Matplotlib**"
   ]
  },
  {
   "cell_type": "markdown",
   "metadata": {
    "colab_type": "text",
    "id": "quprP4gvB-46"
   },
   "source": [
    "* Ideal para plotagem de gráficos **simples**.\n",
    "* Aumenta a produtividade do Cientista de dados.\n",
    "* Fornece uma interfaçe próxima do Matlab, o que é interessante para gráficos com expressões matemáticas.\n",
    "* A maior desvantagem é o **layout**.\n",
    "\n"
   ]
  },
  {
   "cell_type": "markdown",
   "metadata": {
    "colab_type": "text",
    "id": "5wwF0C_4Ads6"
   },
   "source": [
    "**Quando utilizar?**\n",
    "\n",
    "* Útil para análise e exploração de dados."
   ]
  },
  {
   "cell_type": "markdown",
   "metadata": {
    "colab_type": "text",
    "id": "NwOJiIGaAyO5"
   },
   "source": [
    "**Instalação da Biblioteca**"
   ]
  },
  {
   "cell_type": "markdown",
   "metadata": {
    "colab_type": "text",
    "id": "AI3FfbTs7Ga8"
   },
   "source": [
    "* Caso não esteja usando anaconda instale o matplotlib com o gerenciador de pacotes pip ou usando o conda. Exemplo:"
   ]
  },
  {
   "cell_type": "code",
   "execution_count": null,
   "metadata": {
    "colab": {},
    "colab_type": "code",
    "id": "jkgomcoe7Ga9"
   },
   "outputs": [],
   "source": [
    "!pip install matplotlib"
   ]
  },
  {
   "cell_type": "code",
   "execution_count": null,
   "metadata": {
    "colab": {},
    "colab_type": "code",
    "id": "__v7nqAT7GbB"
   },
   "outputs": [],
   "source": [
    "!conda install matplotlib"
   ]
  },
  {
   "cell_type": "markdown",
   "metadata": {
    "colab": {},
    "colab_type": "code",
    "id": "60CC3sv57GbJ"
   },
   "source": [
    "**Se estiver usando o Anaconda, o matplotlib já está disponível por padrão**"
   ]
  },
  {
   "cell_type": "code",
   "execution_count": null,
   "metadata": {
    "colab": {},
    "colab_type": "code",
    "id": "K3qvJhm7g4rV"
   },
   "outputs": [],
   "source": [
    "# Importando o pyplot\n",
    "from matplotlib import pyplot as plt"
   ]
  },
  {
   "cell_type": "markdown",
   "metadata": {
    "colab_type": "text",
    "id": "tJLOBrE57GbP"
   },
   "source": [
    "**Define que os gráficos serem plotados na célula e podem se ajustados**"
   ]
  },
  {
   "cell_type": "code",
   "execution_count": null,
   "metadata": {
    "colab": {},
    "colab_type": "code",
    "id": "2XCgJAXj7GbQ"
   },
   "outputs": [],
   "source": [
    "%matplotlib notebook"
   ]
  },
  {
   "cell_type": "markdown",
   "metadata": {
    "colab_type": "text",
    "id": "Fry-dpbL7GbT"
   },
   "source": [
    "**Define que os gráficos ficaram fixos na célula do jupyter notebook**"
   ]
  },
  {
   "cell_type": "code",
   "execution_count": null,
   "metadata": {
    "colab": {},
    "colab_type": "code",
    "id": "1SMcfIaU7GbU"
   },
   "outputs": [],
   "source": [
    "%matplotlib inline"
   ]
  },
  {
   "cell_type": "markdown",
   "metadata": {
    "colab_type": "text",
    "id": "T_2t6RI17GbY"
   },
   "source": [
    "**Plotando gráfico de linhas simples **"
   ]
  },
  {
   "cell_type": "code",
   "execution_count": null,
   "metadata": {
    "colab_type": "text",
    "id": "NZ14qKsrDNuK"
   },
   "outputs": [],
   "source": [
    "from IPython.display import Image\n",
    "Image(\"anatomia.png\")"
   ]
  },
  {
   "cell_type": "markdown",
   "metadata": {},
   "source": [
    "## Gráfico de Linhas"
   ]
  },
  {
   "cell_type": "markdown",
   "metadata": {
    "colab_type": "text",
    "id": "4pwOzZsC7GbZ"
   },
   "source": [
    "* Gráfico normalmente utilizado para visualização de dados em uma linha do tempo.\n",
    "* Normalmente utilizado com eixo X relacionado a dados temporais e eixo Y a dados quantitativos.\n",
    "* Cuidado ao plotar várias linhas, a leitura pode ficar prejudicada."
   ]
  },
  {
   "cell_type": "code",
   "execution_count": null,
   "metadata": {
    "colab": {
     "base_uri": "https://localhost:8080/",
     "height": 364
    },
    "colab_type": "code",
    "id": "vHYaR6p1Orb6",
    "outputId": "b092c585-8957-40c4-a7c0-68ba7ed7eedb"
   },
   "outputs": [],
   "source": [
    "%matplotlib inline\n",
    "# Eixo_x, Eixo_y\n",
    "plt.plot([1, 2, 3, 4], [1, 4, 9, 16])\n",
    "plt.show()"
   ]
  },
  {
   "cell_type": "markdown",
   "metadata": {
    "colab_type": "text",
    "id": "IEbO73Vn7Gbh"
   },
   "source": [
    "**Definindo label aos eixos**"
   ]
  },
  {
   "cell_type": "code",
   "execution_count": null,
   "metadata": {
    "colab": {
     "base_uri": "https://localhost:8080/",
     "height": 347
    },
    "colab_type": "code",
    "id": "02vdY_9Zny05",
    "outputId": "269af034-dbe9-4d46-d7ee-2522851618bb"
   },
   "outputs": [],
   "source": [
    "%matplotlib notebook\n",
    "import matplotlib.pyplot as plt\n",
    "plt.plot([1, 2, 3, 4],[1, 4, 9, 16])\n",
    "plt.ylabel('Eixo Y')\n",
    "plt.xlabel('Eixo X')\n",
    "plt.show()"
   ]
  },
  {
   "cell_type": "markdown",
   "metadata": {
    "colab_type": "text",
    "id": "F8T3xC8d7Gbl"
   },
   "source": [
    "**Alterando a forma dos pontos**"
   ]
  },
  {
   "cell_type": "code",
   "execution_count": null,
   "metadata": {
    "colab": {
     "base_uri": "https://localhost:8080/",
     "height": 347
    },
    "colab_type": "code",
    "id": "B8y-T-PNPQHw",
    "outputId": "be0aa333-4f48-4c4d-ff5b-d22404d75f1a"
   },
   "outputs": [],
   "source": [
    "%matplotlib inline\n",
    "# plot(x, y)\n",
    "plt.plot([1, 2, 3, 4], [1, 4, 9, 16],'o')\n",
    "plt.show()"
   ]
  },
  {
   "cell_type": "markdown",
   "metadata": {
    "colab_type": "text",
    "id": "ira0qLpa7Gbq"
   },
   "source": [
    "**Definindo limites de visualização dos eixos x e y**"
   ]
  },
  {
   "cell_type": "code",
   "execution_count": null,
   "metadata": {
    "colab": {
     "base_uri": "https://localhost:8080/",
     "height": 351
    },
    "colab_type": "code",
    "id": "BvXPx243PQLE",
    "outputId": "ffbae46a-764c-493b-ccaf-d7aae89b40af"
   },
   "outputs": [],
   "source": [
    "# Opções do método axis()\n",
    "%matplotlib inline\n",
    "\n",
    "#plot(x,y)\n",
    "\n",
    "plt.plot([1, 2, 3, 4], [1, 4, 9, 16],'o')\n",
    "\n",
    "#axis(xmin,xmin, ymin,ymax)\n",
    "\n",
    "plt.axis([0, 6, 0, 20])           # [xmin, xmax, ymin, ymax]\n",
    "plt.show()"
   ]
  },
  {
   "cell_type": "markdown",
   "metadata": {
    "colab_type": "text",
    "id": "4ugLKAPq7Gbw"
   },
   "source": [
    "**Importa a biblioteca numpy**"
   ]
  },
  {
   "cell_type": "code",
   "execution_count": null,
   "metadata": {
    "colab": {},
    "colab_type": "code",
    "id": "dK7pwQQW7Gby"
   },
   "outputs": [],
   "source": [
    "import numpy as np"
   ]
  },
  {
   "cell_type": "markdown",
   "metadata": {
    "colab_type": "text",
    "id": "BY-mvxTx7Gb2"
   },
   "source": [
    "**Plot duas séries de dados, no caso x1 e y2 e x3 e y3**"
   ]
  },
  {
   "cell_type": "code",
   "execution_count": null,
   "metadata": {
    "colab": {
     "base_uri": "https://localhost:8080/",
     "height": 347
    },
    "colab_type": "code",
    "id": "4TfBpVkpQUHD",
    "outputId": "98b16f50-e702-4d68-aada-669ac1b39eae"
   },
   "outputs": [],
   "source": [
    "%matplotlib inline\n",
    "x1=np.array([1,2,3,4,5,6,7,8,9,11])\n",
    "\n",
    "x2 = x1\n",
    "y2 = x1**2             # Numero elevado ao quadrado\n",
    "\n",
    "x3 = x1\n",
    "y3 = x1**3             # Numero elevado cubo\n",
    "\n",
    "plt.plot(x1, x1 ,'r--', x2, y2, 'bs', x3, y3, 'g^')\n",
    "\n",
    "plt.show()"
   ]
  },
  {
   "cell_type": "markdown",
   "metadata": {
    "colab_type": "text",
    "id": "XzVIAcG8U7Qp"
   },
   "source": [
    "## Plotando dados categóricos\n",
    "\n",
    "* Trabalhando com gráficos de barras.\n",
    "* Ideal para quando estamos trabalhando com **comparação de valores**.\n",
    "* Normalmente quer se visualizar frequência ou percentual de valores."
   ]
  },
  {
   "cell_type": "markdown",
   "metadata": {
    "colab_type": "text",
    "id": "bVW1iuW07Gb8"
   },
   "source": [
    "**Plotando gráfico de barras verticais o gráfico de colunas**"
   ]
  },
  {
   "cell_type": "code",
   "execution_count": null,
   "metadata": {
    "colab": {
     "base_uri": "https://localhost:8080/",
     "height": 347
    },
    "colab_type": "code",
    "id": "HTQstQPoWCxC",
    "outputId": "97b233d0-4ebc-4939-8d3f-875fe11dc2ee"
   },
   "outputs": [],
   "source": [
    "%matplotlib inline\n",
    "grupos = ['Produto A', 'Produto B', 'Produto C']\n",
    "valores = [1, 10, 100]\n",
    "\n",
    "plt.bar(grupos, valores)\n",
    "\n",
    "plt.show()"
   ]
  },
  {
   "cell_type": "markdown",
   "metadata": {},
   "source": [
    "**Plota gráficos de Barras juntas**"
   ]
  },
  {
   "cell_type": "code",
   "execution_count": null,
   "metadata": {},
   "outputs": [],
   "source": [
    "# Importa o numpy\n",
    "import numpy as np"
   ]
  },
  {
   "cell_type": "code",
   "execution_count": null,
   "metadata": {
    "colab": {
     "base_uri": "https://localhost:8080/",
     "height": 362
    },
    "colab_type": "code",
    "id": "cczHg2-87X53",
    "outputId": "88775308-db67-436c-f28a-9a64ec33136b"
   },
   "outputs": [],
   "source": [
    "%matplotlib inline\n",
    "\n",
    "# Quantidade de vendas para o Produto A\n",
    "valores_produto_A = [6,7,8,4,4]\n",
    "\n",
    "\n",
    "# Quantidade de vendas para o Produto B\n",
    "valores_produto_B = [3,12,3,4.1,6]\n",
    "\n",
    "# Cria eixo x para produto A e produto B com uma separação de 0.25 entre as barras\n",
    "x1 =  np.arange(len(valores_produto_A))\n",
    "x2 = [x + 0.25 for x in x1]\n",
    "\n",
    "# Plota as barras\n",
    "plt.bar(x1, valores_produto_A, width=0.25, label = 'Produto A', color = 'b')\n",
    "plt.bar(x2, valores_produto_B, width=0.25, label = 'Produto B', color = 'y')\n",
    "\n",
    "meses = ['Agosto','Setembro','Outubro','Novembro','Dezembro']\n",
    "plt.xticks([x + 0.25 for x in range(len(valores_produto_A))], meses)\n",
    "\n",
    "plt.legend()\n",
    "\n",
    "plt.title(\"Quantidade de Vendas\")\n",
    "plt.show()"
   ]
  },
  {
   "cell_type": "markdown",
   "metadata": {
    "colab_type": "text",
    "id": "DqPa2WbF7GcA"
   },
   "source": [
    "**Gráfico de barras horizontais**"
   ]
  },
  {
   "cell_type": "markdown",
   "metadata": {
    "colab_type": "text",
    "id": "aXjh-OXv7GcB"
   },
   "source": [
    "* Gráfico muito usado quando queremos fazer **comparações**.\n",
    "* Muito usado em pesquisas de campanhas eleitorais.\n",
    "* Leitura muito simples e intuitiva.\n",
    "* Funciona bem quando os labels dos eixos são longos."
   ]
  },
  {
   "cell_type": "code",
   "execution_count": null,
   "metadata": {
    "colab": {
     "base_uri": "https://localhost:8080/",
     "height": 347
    },
    "colab_type": "code",
    "id": "HTQstQPoWCxC",
    "outputId": "97b233d0-4ebc-4939-8d3f-875fe11dc2ee"
   },
   "outputs": [],
   "source": [
    "%matplotlib inline\n",
    "grupos = ['Produto A', 'Produto B', 'Produto C']\n",
    "valores = [1, 10, 100]\n",
    "\n",
    "plt.barh(grupos, valores)\n",
    "\n",
    "plt.show()"
   ]
  },
  {
   "cell_type": "markdown",
   "metadata": {},
   "source": [
    "**Rotacionando Labels**"
   ]
  },
  {
   "cell_type": "code",
   "execution_count": null,
   "metadata": {
    "colab": {
     "base_uri": "https://localhost:8080/",
     "height": 347
    },
    "colab_type": "code",
    "id": "HTQstQPoWCxC",
    "outputId": "97b233d0-4ebc-4939-8d3f-875fe11dc2ee"
   },
   "outputs": [],
   "source": [
    "%matplotlib inline\n",
    "grupos = ['Produto A', 'Produto B', 'Produto C']\n",
    "valores = [1, 10, 100]\n",
    "\n",
    "plt.barh(grupos, valores)\n",
    "plt.barh (grupos, valores)\n",
    "plt.yticks(rotation=45)\n",
    "\n",
    "plt.show()"
   ]
  },
  {
   "cell_type": "markdown",
   "metadata": {
    "colab_type": "text",
    "id": "nC4HrBsn7GcG"
   },
   "source": [
    "**Rotacionando labels nos eixos**"
   ]
  },
  {
   "cell_type": "markdown",
   "metadata": {
    "colab_type": "text",
    "id": "TiZ3UhWrYEO1"
   },
   "source": [
    "# Grafico de Pizza"
   ]
  },
  {
   "cell_type": "code",
   "execution_count": null,
   "metadata": {
    "colab": {},
    "colab_type": "code",
    "id": "wqebGM9P7GcK",
    "outputId": "2cfe3516-7f60-4664-8c3c-2a4b54f45442"
   },
   "outputs": [],
   "source": [
    "%matplotlib inline\n",
    "\n",
    "vendas = [3000, 2300, 1000, 500]\n",
    "labels = ['E-commerce', 'Loja Física', 'e-mail', 'Marketplace']\n",
    "\n",
    "plt.pie(vendas, labels=labels)\n",
    "plt.show()"
   ]
  },
  {
   "cell_type": "markdown",
   "metadata": {
    "colab": {},
    "colab_type": "code",
    "id": "jr8tS4LoPQNj"
   },
   "source": [
    "## Customizando gráficos"
   ]
  },
  {
   "cell_type": "markdown",
   "metadata": {},
   "source": [
    "* Adicionando informações de percentual, sombra, separação das partes e legenda"
   ]
  },
  {
   "cell_type": "code",
   "execution_count": null,
   "metadata": {
    "colab": {},
    "colab_type": "code",
    "id": "fvbc4XXN7GcQ",
    "outputId": "e0b15764-894c-410a-9889-1749b389c424"
   },
   "outputs": [],
   "source": [
    "%matplotlib inline\n",
    "\n",
    "vendas = [3000, 2300, 1000, 500]\n",
    "labels = ['E-commerce', 'Loja Física', 'e-mail', 'Marketplace']\n",
    "\n",
    "# define o nível de separabilidade entre as partes, ordem do vetor representa as partes\n",
    "explode = (0.1, 0, 0, 0) \n",
    "\n",
    "plt.pie(vendas, labels=labels, autopct='%1.1f%%', shadow=True, explode=explode)\n",
    "plt.legend(labels, loc=2)\n",
    "\n",
    "\n",
    "# define que o gráfico será plotado em circulo\n",
    "plt.axis('equal')\n",
    "\n",
    "plt.show()"
   ]
  },
  {
   "cell_type": "markdown",
   "metadata": {
    "colab_type": "text",
    "id": "kMigHLvIskvo"
   },
   "source": [
    "# Matplotlib , pyplot e pylab?"
   ]
  },
  {
   "cell_type": "markdown",
   "metadata": {
    "colab_type": "text",
    "id": "an3jYKIXs6yp"
   },
   "source": [
    "*  Pyplot é um módulo do pacote matplotlib que implicitamente cria figuras e eixos nos gráficos.\n",
    "*  Pylab é outro módulo do matplotlib que já importa o numpy e pyplot. Este módulo é projetado para plots de arrays e cálculos matemáticos.\n",
    "*  Pylab está depreciado\n",
    "\n"
   ]
  },
  {
   "cell_type": "code",
   "execution_count": null,
   "metadata": {
    "colab": {
     "base_uri": "https://localhost:8080/",
     "height": 347
    },
    "colab_type": "code",
    "id": "HD6NO7GNstUP",
    "outputId": "3d29d790-34d2-4f7c-f921-422036f6ebd8"
   },
   "outputs": [],
   "source": [
    "import matplotlib.pyplot as plt\n",
    "import numpy as np\n",
    "\n",
    "# Cria uma figura\n",
    "fig = plt.figure()\n",
    "\n",
    "# Define eixos\n",
    "ax = fig.add_subplot(111)\n",
    "\n",
    "# Scatter plot usando numpy\n",
    "ax.scatter(np.linspace(0, 1, 5), np.linspace(0, 5, 5))\n",
    "\n",
    "# Show the plot\n",
    "plt.show()"
   ]
  },
  {
   "cell_type": "markdown",
   "metadata": {
    "colab_type": "text",
    "id": "xM2WSk1zz4vo"
   },
   "source": [
    "## Criando Subplots"
   ]
  },
  {
   "cell_type": "markdown",
   "metadata": {},
   "source": [
    "* Para criar subplots defina o número de linhas de gráficos e número de colunas (quantidade de gráfico em cada linha)"
   ]
  },
  {
   "cell_type": "code",
   "execution_count": null,
   "metadata": {},
   "outputs": [],
   "source": [
    "plt.subplots(nrows=1, ncols=2)"
   ]
  },
  {
   "cell_type": "markdown",
   "metadata": {},
   "source": [
    "** 1 linha com 3 colunas **"
   ]
  },
  {
   "cell_type": "code",
   "execution_count": null,
   "metadata": {},
   "outputs": [],
   "source": [
    "plt.subplots(nrows=1, ncols=3)"
   ]
  },
  {
   "cell_type": "markdown",
   "metadata": {},
   "source": [
    "**2 linhas com 2 colunas**"
   ]
  },
  {
   "cell_type": "code",
   "execution_count": null,
   "metadata": {},
   "outputs": [],
   "source": [
    "plt.subplots(nrows=2, ncols=2)"
   ]
  },
  {
   "cell_type": "markdown",
   "metadata": {},
   "source": [
    "**Para acessar suplots usa-se o método *subplot* (atenção para o nome correto no singular)**"
   ]
  },
  {
   "cell_type": "code",
   "execution_count": null,
   "metadata": {},
   "outputs": [],
   "source": [
    "x = [1,2,3,4]\n",
    "y = [10,20,25,40]\n",
    "\n",
    "plt.subplot(1,2,1)\n",
    "plt.plot(x,y, 'o')\n",
    "\n",
    "plt.subplot(1,2,2)\n",
    "plt.plot(x,y, color='r')"
   ]
  },
  {
   "cell_type": "markdown",
   "metadata": {},
   "source": [
    "**Criação de instâncias de classes figure**\n",
    "\n",
    "* Aumenta o controle do nível de customização das funções do Matplotlib.\n",
    "* Gera menos código devido a orientação a objetos."
   ]
  },
  {
   "cell_type": "code",
   "execution_count": null,
   "metadata": {},
   "outputs": [],
   "source": [
    "# Cria um objeto do tipo figure\n",
    "fig = plt.figure()\n",
    "\n",
    "# Define o tamanho em percentual do grafico.\n",
    "# Altura e largura do eixo na figura\n",
    "\n",
    "axes_a = fig.add_axes([0.1, 0.1, 0.8, 0.8])\n",
    "\n",
    "# Plota o gráfico\n",
    "axes_a.plot(x,y)"
   ]
  },
  {
   "cell_type": "markdown",
   "metadata": {},
   "source": [
    "**Uma figura com dois gráficos de proporções diferentes**"
   ]
  },
  {
   "cell_type": "code",
   "execution_count": null,
   "metadata": {},
   "outputs": [],
   "source": [
    "# Cria um objeto do tipo figure\n",
    "fig = plt.figure()\n",
    "\n",
    "# Define o tamanho em percentual do grafico.\n",
    "# Altura e largura do eixo na figura\n",
    "axes_a = fig.add_axes([0.1, 0.1, 0.8, 0.8])\n",
    "\n",
    "axes_b = fig.add_axes([0.2, 0.5, 0.3, 0.3])\n",
    "\n",
    "# Plota a figura com dois eixos.\n",
    "# O \"r--\" significa linha tracejada em vermelho(r)\n",
    "axes_a.plot(x,y)\n",
    "\n",
    "axes_b.plot(x,y,'r--')"
   ]
  },
  {
   "cell_type": "markdown",
   "metadata": {},
   "source": [
    "** É possível customizar a largura ou altura do gráfico para acomodar melhor seus dados.**\n",
    "\n",
    "*  Exemplo: gráficos de dados financeitos em uma granularidade muito baixa (minutos)"
   ]
  },
  {
   "cell_type": "code",
   "execution_count": null,
   "metadata": {},
   "outputs": [],
   "source": [
    "x = [1,2,3,4]\n",
    "y = [10,20,25,40]\n",
    "\n",
    "# Altera a largura e altura do gráfico (width,height) \n",
    "fig, ax = plt.subplots(figsize=(20,5))\n",
    "\n",
    "# Plota o gráfico\n",
    "ax.plot(x,y, 'r--')"
   ]
  },
  {
   "cell_type": "markdown",
   "metadata": {},
   "source": [
    "** Plotando dois gráficos (eixos) na mesma figura**"
   ]
  },
  {
   "cell_type": "code",
   "execution_count": null,
   "metadata": {
    "colab": {
     "base_uri": "https://localhost:8080/",
     "height": 592
    },
    "colab_type": "code",
    "id": "pAOLeYFkx48X",
    "outputId": "bd6992c3-595f-4d40-a2a5-6f6ea8f6f3e0"
   },
   "outputs": [],
   "source": [
    "# Define as configurações dos plots\n",
    "# Cada plot terá o mesmo tamanho de figuras\n",
    "\n",
    "fig, (ax1, ax2) = plt.subplots(1, 2, figsize=(10,5))\n",
    "\n",
    "# Dados para cada subplot\n",
    "ax1.bar([1,2,3],[3,4,5])\n",
    "\n",
    "ax2.barh([0.5,1,2.5],[0,1,2])\n",
    "\n",
    "plt.show()"
   ]
  },
  {
   "cell_type": "markdown",
   "metadata": {},
   "source": [
    "** Define configuracões dos eixos com o método \"set()\"**"
   ]
  },
  {
   "cell_type": "code",
   "execution_count": null,
   "metadata": {
    "colab": {
     "base_uri": "https://localhost:8080/",
     "height": 620
    },
    "colab_type": "code",
    "id": "_Tm6l_Y9x5E-",
    "outputId": "adb14cc0-db91-4306-b350-8a64232d2eb6"
   },
   "outputs": [],
   "source": [
    "import matplotlib.pyplot as plt\n",
    "\n",
    "# Define as configurações dos plots\n",
    "# Cada plot terá o mesmo tamanho de figuras\n",
    "fig, (ax1, ax2) = plt.subplots(1, 2, figsize=(10,5))\n",
    "\n",
    "# Dados para cada subplot\n",
    "ax1.bar([1,2,3],[3,4,5], color='r')\n",
    "\n",
    "ax2.barh([0.5,1,2.5],[0,1,2])\n",
    "\n",
    "# Usa o método set para definir configurações do  gráfico\n",
    "ax1.set(title=\"Gráfico de Barras Verticais\", xlabel=\"Eixo x\", ylabel=\" Eixo y\")\n",
    "\n",
    "ax2.set(title=\"Gráfico de Barras Horizontais\", xlabel=\"Eixo x\", ylabel=\"Eixo y\")\n",
    "\n",
    "plt.show()"
   ]
  },
  {
   "cell_type": "markdown",
   "metadata": {
    "colab_type": "text",
    "id": "Z4QF_QpJ-v-o"
   },
   "source": [
    "# Customizando layouts"
   ]
  },
  {
   "cell_type": "code",
   "execution_count": null,
   "metadata": {
    "colab": {},
    "colab_type": "code",
    "id": "YEWgIbl3x5LI"
   },
   "outputs": [],
   "source": [
    "import matplotlib.pyplot as plt\n",
    "\n",
    "# Define o stilo para ggplot\n",
    "plt.style.use(\"ggplot\")"
   ]
  },
  {
   "cell_type": "code",
   "execution_count": null,
   "metadata": {
    "colab": {
     "base_uri": "https://localhost:8080/",
     "height": 625
    },
    "colab_type": "code",
    "id": "6Xj2JXbcx5OL",
    "outputId": "d88fbd3e-21c4-4510-ea50-2e15699fc62c"
   },
   "outputs": [],
   "source": [
    "import matplotlib.pyplot as plt\n",
    "\n",
    "# Define as configurações dos plots\n",
    "# Cada plot terá o mesmo tamanho de figuras (10,5)\n",
    "fig, (ax1, ax2) = plt.subplots(1, 2, figsize=(10,5))\n",
    "\n",
    "# Dados para cada subplot\n",
    "ax1.bar([1,2,3],[3,4,5])\n",
    "ax2.barh([0.5,1,2.5],[0,1,2])\n",
    "\n",
    "ax1.set(title=\"Gráfico de Barras Verticais\", xlabel=\"Eixo x\", ylabel=\" Eixo y\")\n",
    "ax2.set(title=\"Gráfico de Barras Horizontais\", xlabel=\"Eixo x\", ylabel=\"Eixo y\")\n",
    "\n",
    "plt.show()"
   ]
  },
  {
   "cell_type": "markdown",
   "metadata": {},
   "source": [
    "** Matplotlib funciona também com cores em RGB. Para fazer isso use o parâmetro *color* **"
   ]
  },
  {
   "cell_type": "code",
   "execution_count": null,
   "metadata": {},
   "outputs": [],
   "source": [
    "# Define as configurações dos plots\n",
    "# Cada plot terá o mesmo tamanho de figuras (10,5)\n",
    "fig, (ax1, ax2) = plt.subplots(1, 2, figsize=(10,5))\n",
    "\n",
    "# Dados para cada subplot\n",
    "ax1.bar([1,2,3],[3,4,5],color='#00BFFF')\n",
    "ax2.barh([0.5,1,2.5],[0,1,2], color='#00FF00')\n",
    "\n",
    "ax1.set(title=\"Gráfico de Barras Verticais\", xlabel=\"Eixo x\", ylabel=\" Eixo y\")\n",
    "ax2.set(title=\"Gráfico de Barras Horizontais\", xlabel=\"Eixo x\", ylabel=\"Eixo y\")\n",
    "\n",
    "\n",
    "plt.show()"
   ]
  },
  {
   "cell_type": "markdown",
   "metadata": {
    "colab_type": "text",
    "id": "yrXJpYg5ySWi"
   },
   "source": [
    "# Adiciona textos em gráficos"
   ]
  },
  {
   "cell_type": "code",
   "execution_count": null,
   "metadata": {},
   "outputs": [],
   "source": [
    "import numpy as np"
   ]
  },
  {
   "cell_type": "code",
   "execution_count": null,
   "metadata": {
    "colab": {
     "base_uri": "https://localhost:8080/",
     "height": 380
    },
    "colab_type": "code",
    "id": "aS8CHKTDxDjn",
    "outputId": "e3b80746-5af0-4b47-9efb-c986dff9b31b"
   },
   "outputs": [],
   "source": [
    "%matplotlib inline\n",
    "\n",
    "# 100 valores no intervalo de 0 a 2.\n",
    "x = np.linspace(0, 2, num=100)\n",
    "\n",
    "# define a legenda e tamanho de linhas\n",
    "plt.plot(x, x, label='linear')\n",
    "\n",
    "plt.plot(x, x**2, label='quadratico', linewidth=5)\n",
    "\n",
    "plt.xlabel('x label')\n",
    "plt.ylabel('y label')\n",
    "\n",
    "plt.title(\"Gráfico de Linhas Simples\")\n",
    "\n",
    "# Exibe a legenda e por padrão usa o label de cada plot.\n",
    "plt.legend()\n",
    "\n",
    "# Configurações do texto\n",
    "plt.text(1.00, 1.0, \"Cruzamento das Linhas\", fontsize=12, horizontalalignment='right')\n",
    "\n",
    "plt.show()"
   ]
  },
  {
   "cell_type": "markdown",
   "metadata": {
    "colab_type": "text",
    "id": "OvZS7v9-S_GH"
   },
   "source": [
    "# Plotando Histogramas"
   ]
  },
  {
   "cell_type": "markdown",
   "metadata": {
    "colab_type": "text",
    "id": "_mwzb2997Gcw"
   },
   "source": [
    "* Histogramas são úteis quando queremos visualizar a distribuição de **uma** variável.\n",
    "* Esse é um gráfico muito utilizado em estatítica descritiva.\n",
    "* Facilita a visualização de dados extremos.\n",
    "* É útil em tarefas de **análise** e **exploração** de dados."
   ]
  },
  {
   "cell_type": "markdown",
   "metadata": {
    "colab_type": "text",
    "id": "ibk4aMdK7Gcx"
   },
   "source": [
    "**Gera dados aleatórios com média em torno de 0 e desvio padrão em torno de 1**"
   ]
  },
  {
   "cell_type": "code",
   "execution_count": null,
   "metadata": {
    "colab": {},
    "colab_type": "code",
    "id": "Ff0fVWxkUhKL"
   },
   "outputs": [],
   "source": [
    "d = np.random.normal(0, 1, size=500)"
   ]
  },
  {
   "cell_type": "markdown",
   "metadata": {
    "colab_type": "text",
    "id": "EmPwHClH7Gc3"
   },
   "source": [
    "**Plota histograma com 10 bins**"
   ]
  },
  {
   "cell_type": "code",
   "execution_count": null,
   "metadata": {
    "colab": {
     "base_uri": "https://localhost:8080/",
     "height": 432
    },
    "colab_type": "code",
    "id": "euy4VsCvS-Ho",
    "outputId": "a390134a-eaf5-41dd-bdd9-d5c42c1fc5d7"
   },
   "outputs": [],
   "source": [
    "%matplotlib inline \n",
    "plt.hist(d, bins=10,color='r')"
   ]
  },
  {
   "cell_type": "markdown",
   "metadata": {
    "colab": {},
    "colab_type": "code",
    "id": "7uVvCcqnS-Kb"
   },
   "source": [
    "## Trabalhando com dataframes Pandas"
   ]
  },
  {
   "cell_type": "markdown",
   "metadata": {},
   "source": [
    "* O Matplotlib trabalha bem com o Pandas. \n",
    "* É possível usar recursos de dataframes usando o parâmetro **data**."
   ]
  },
  {
   "cell_type": "code",
   "execution_count": null,
   "metadata": {},
   "outputs": [],
   "source": [
    "import pandas as pd"
   ]
  },
  {
   "cell_type": "markdown",
   "metadata": {},
   "source": [
    "** Cria um dicionário de valores**"
   ]
  },
  {
   "cell_type": "code",
   "execution_count": null,
   "metadata": {},
   "outputs": [],
   "source": [
    "data = {'a': np.arange(50),\n",
    "        'c': np.random.randint(0, 50, 50),\n",
    "        'd': np.random.randn(50)\n",
    "       }"
   ]
  },
  {
   "cell_type": "code",
   "execution_count": null,
   "metadata": {},
   "outputs": [],
   "source": [
    "data = pd.DataFrame(data)"
   ]
  },
  {
   "cell_type": "code",
   "execution_count": null,
   "metadata": {},
   "outputs": [],
   "source": [
    "type(data)"
   ]
  },
  {
   "cell_type": "code",
   "execution_count": null,
   "metadata": {},
   "outputs": [],
   "source": [
    "data.head()"
   ]
  },
  {
   "cell_type": "markdown",
   "metadata": {},
   "source": [
    "** Gera dados aleatorios para coluna b e d**"
   ]
  },
  {
   "cell_type": "code",
   "execution_count": null,
   "metadata": {},
   "outputs": [],
   "source": [
    "data['b'] = data['a'] + 10 * np.random.randn(50)\n",
    "data['d'] = np.abs(data['d']) * 200"
   ]
  },
  {
   "cell_type": "code",
   "execution_count": null,
   "metadata": {},
   "outputs": [],
   "source": [
    "data.b.head()"
   ]
  },
  {
   "cell_type": "markdown",
   "metadata": {},
   "source": [
    "**Dados Absolutos**"
   ]
  },
  {
   "cell_type": "code",
   "execution_count": null,
   "metadata": {},
   "outputs": [],
   "source": [
    "data.d.head()"
   ]
  },
  {
   "cell_type": "code",
   "execution_count": null,
   "metadata": {},
   "outputs": [],
   "source": [
    "data.head()"
   ]
  },
  {
   "cell_type": "markdown",
   "metadata": {},
   "source": [
    "**Plota gráfico de disperssão usando pandas dataframe**"
   ]
  },
  {
   "cell_type": "code",
   "execution_count": null,
   "metadata": {
    "colab": {
     "base_uri": "https://localhost:8080/",
     "height": 361
    },
    "colab_type": "code",
    "id": "v4rdlHi3Td3y",
    "outputId": "8a496853-5f4e-45f2-d605-966848f11c8e"
   },
   "outputs": [],
   "source": [
    "plt.scatter('a', 'b', c='c', s='d', data=data)\n",
    "plt.xlabel('entry a')\n",
    "plt.ylabel('entry b')\n",
    "plt.show()"
   ]
  }
 ],
 "metadata": {
  "colab": {
   "name": "visualização-de-dados-01.ipynb",
   "provenance": [],
   "version": "0.3.2"
  },
  "kernelspec": {
   "display_name": "Python 3",
   "language": "python",
   "name": "python3"
  },
  "language_info": {
   "codemirror_mode": {
    "name": "ipython",
    "version": 3
   },
   "file_extension": ".py",
   "mimetype": "text/x-python",
   "name": "python",
   "nbconvert_exporter": "python",
   "pygments_lexer": "ipython3",
   "version": "3.6.5"
  }
 },
 "nbformat": 4,
 "nbformat_minor": 1
}
