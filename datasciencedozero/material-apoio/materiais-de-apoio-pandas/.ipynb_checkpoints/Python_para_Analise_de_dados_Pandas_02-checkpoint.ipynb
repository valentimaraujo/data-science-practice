{
 "cells": [
  {
   "cell_type": "markdown",
   "metadata": {},
   "source": [
    "# Python para Análise de Dados - Pandas  02"
   ]
  },
  {
   "cell_type": "markdown",
   "metadata": {},
   "source": [
    "<p> Iremos trabalhar com base de imóveis que obtive no site Kaggle. \n",
    "\n",
    "Você pode fazer Download diretamente no nosso **GitHub**, [aqui](https://github.com/minerandodados/mdrepo/blob/master/kc_house_data.csv)\n",
    "\n"
   ]
  },
  {
   "cell_type": "code",
   "execution_count": 1,
   "metadata": {},
   "outputs": [],
   "source": [
    "# Importe a biblioteca pandas\n",
    "import pandas as pd"
   ]
  },
  {
   "cell_type": "code",
   "execution_count": null,
   "metadata": {},
   "outputs": [],
   "source": [
    "# Lendo a base de dados\n",
    "arquivo = '/home/rodrigo/curso/Python Para Data Análise/kc_house_data.csv'\n",
    "dataset = pd.read_csv(arquivo, sep=',')"
   ]
  },
  {
   "cell_type": "code",
   "execution_count": null,
   "metadata": {},
   "outputs": [],
   "source": [
    "# Plota um Histograma com a coluna Price com 30 bins na cor vermelho\n",
    "%matplotlib notebook\n",
    "dataset['price'].hist(bins=80, color='red')"
   ]
  },
  {
   "cell_type": "code",
   "execution_count": null,
   "metadata": {},
   "outputs": [],
   "source": [
    "# Plota histogramas das colunas bedrooms e bathrooms lado a lado na cor verde.\n",
    "%matplotlib notebook\n",
    "dataset[['bedrooms','bathrooms']].hist(bins=30,alpha=0.5,color='Green')"
   ]
  },
  {
   "cell_type": "markdown",
   "metadata": {},
   "source": [
    "** Estatistica Descritiva**"
   ]
  },
  {
   "cell_type": "code",
   "execution_count": null,
   "metadata": {},
   "outputs": [],
   "source": [
    "# Imprime o valor médio da coluna bedrooms\n",
    "dataset['bedrooms'].mean()"
   ]
  },
  {
   "cell_type": "code",
   "execution_count": null,
   "metadata": {},
   "outputs": [],
   "source": [
    "# Imprime o valor máximo da coluna bedrooms\n",
    "dataset['bedrooms'].max()"
   ]
  },
  {
   "cell_type": "code",
   "execution_count": null,
   "metadata": {},
   "outputs": [],
   "source": [
    "# Imprime o valor mínimo da coluna bedrooms\n",
    "dataset['bedrooms'].min()"
   ]
  },
  {
   "cell_type": "code",
   "execution_count": null,
   "metadata": {},
   "outputs": [],
   "source": [
    "# Imprime o desvio padrão da coluna bedrooms\n",
    "dataset['bedrooms'].std()"
   ]
  },
  {
   "cell_type": "code",
   "execution_count": null,
   "metadata": {},
   "outputs": [],
   "source": [
    "# Imprime o valor máximo da coluna bedrooms\n",
    "dataset['bedrooms'].skew()"
   ]
  },
  {
   "cell_type": "code",
   "execution_count": null,
   "metadata": {},
   "outputs": [],
   "source": [
    "# Esse método retorna o valor de simetria de cada coluna do dataset.\n",
    "# Um valor zero indica uma distribuição simétrica\n",
    "# Um valor maior que zero ou menor indica uma distribuição assimétrica.\n",
    "# Valores acima de zero podemos dizer que existe uma assimetria positiva \n",
    "# Valores abaixo de zero uma assimetria negativa.\n",
    "# Isso quer dizer que valores muito acima de zero indicam que existem mais valores acima da média\n",
    "# valores abaixo de zero significa que contém mais valores abaixo da média.\n",
    "dataset.skew()"
   ]
  },
  {
   "cell_type": "markdown",
   "metadata": {},
   "source": [
    "# **Extraindo Insights**"
   ]
  },
  {
   "cell_type": "markdown",
   "metadata": {},
   "source": [
    "* Vamos agora trabalhar com um tipo de gráfico muito interessante.\n",
    "\n",
    "* Os gráficos do tipo Boxplot são excelentes ferramentas de análise de dados, principalmente para identificar _**outliers**_."
   ]
  },
  {
   "cell_type": "code",
   "execution_count": null,
   "metadata": {},
   "outputs": [],
   "source": [
    "import matplotlib"
   ]
  },
  {
   "cell_type": "code",
   "execution_count": null,
   "metadata": {},
   "outputs": [],
   "source": [
    "# Plota gráfico do tipo Boxplot da coluna bedrooms\n",
    "# Esse gráfico é muito rico e é possível visualizar Outliers\n",
    "%matplotlib notebook\n",
    "matplotlib.style.use('ggplot')\n",
    "\n",
    "dataset.boxplot(column='bedrooms')"
   ]
  },
  {
   "cell_type": "code",
   "execution_count": null,
   "metadata": {},
   "outputs": [],
   "source": [
    "# Visualizando os estilos de layout disponível\n",
    "matplotlib.style.available"
   ]
  },
  {
   "cell_type": "code",
   "execution_count": null,
   "metadata": {},
   "outputs": [],
   "source": [
    "# Plota boxplot da coluna 'price' por número de quartos\n",
    "%matplotlib notebook\n",
    "dataset.boxplot(column='price', by='bedrooms')"
   ]
  },
  {
   "cell_type": "markdown",
   "metadata": {},
   "source": [
    "**Correlação **"
   ]
  },
  {
   "cell_type": "code",
   "execution_count": null,
   "metadata": {},
   "outputs": [],
   "source": [
    "# Imprime a correlação de todas as colunas do dataframe (person)\n",
    "dataset.corr()"
   ]
  },
  {
   "cell_type": "code",
   "execution_count": null,
   "metadata": {},
   "outputs": [],
   "source": [
    "dataset.corr('spearman')"
   ]
  },
  {
   "cell_type": "code",
   "execution_count": null,
   "metadata": {},
   "outputs": [],
   "source": [
    "# Imprime a correlação de spearman (esta leva em consideração a correção positiva e negativa)\n",
    "dataset.corr('spearman')"
   ]
  },
  {
   "cell_type": "code",
   "execution_count": null,
   "metadata": {},
   "outputs": [],
   "source": [
    "# Imprime a correção de algumas colunas\n",
    "dataset[['bedrooms','bathrooms','sqft_living','floors','waterfront','grade','price']].corr()"
   ]
  },
  {
   "cell_type": "code",
   "execution_count": null,
   "metadata": {
    "scrolled": false
   },
   "outputs": [],
   "source": [
    "# Plotando a correlação de algumas colunas\n",
    "%matplotlib notebook\n",
    "dataset[['sqft_living','waterfront','grade','price']].corr().plot()"
   ]
  },
  {
   "cell_type": "markdown",
   "metadata": {},
   "source": [
    "# **Tabelas Pivot**"
   ]
  },
  {
   "cell_type": "code",
   "execution_count": null,
   "metadata": {},
   "outputs": [],
   "source": [
    "# Tabelas Pivot são úteis para fazer agrupamento nos dados.\n",
    "# Conta a quantidade de imóveis agrupados pelas colunas waterfront e floors.\n",
    "# O parametro index informo as colunas que serão usadas para agregação.\n",
    "# o parâmetro aggfunc é usado para definir a função de agregação, que poderia ser uma média por exemplo.\n",
    "# O parâmetro margins=True calcula a quantidade total no final da tabela.\n",
    "\n",
    "# Muito interessante a performance dessa operação.\n",
    "dataset.pivot_table('id',index=[\"waterfront\",\"floors\"], aggfunc='count',margins=True)"
   ]
  },
  {
   "cell_type": "markdown",
   "metadata": {},
   "source": [
    "**Crosstab**"
   ]
  },
  {
   "cell_type": "code",
   "execution_count": null,
   "metadata": {},
   "outputs": [],
   "source": [
    "# Crosstab ou tabulação Cruzada\n",
    "# Essa funcionalidade cruza valores das variáveis\n",
    "# Nesse exemplo podemos ver qual a distribuição dos imóvies por número de quartos com relação a sua condição\n",
    "# Podemos ver que imoveis com 3 quartos estão mais na condição 5\n",
    "\n",
    "pd.crosstab(dataset['bedrooms'],dataset['condition'])"
   ]
  },
  {
   "cell_type": "code",
   "execution_count": null,
   "metadata": {},
   "outputs": [],
   "source": [
    "# Plota a tabulação Cruzada\n",
    "# Usamos o método plot com um gráfico de barras\n",
    "\n",
    "table = pd.crosstab(dataset['bedrooms'],dataset['condition'])\n",
    "table.plot(kind='bar',width=1.0, color=['red','yellow','orange','blue','green'], title='Condition by Bedrooms' ,grid=False)"
   ]
  },
  {
   "cell_type": "markdown",
   "metadata": {},
   "source": [
    "# ** Trabalhando com Excel **"
   ]
  },
  {
   "cell_type": "markdown",
   "metadata": {},
   "source": [
    "* Com o Pandas podemos trabalhar com o Excel.\n",
    "\n",
    "* Isso é muito bom, pois, sabemos que temos muita informação nos dias de hoje em planilhas do excel.\n",
    "\n",
    "* Diante disso você pode usar o pandas para manipular planilhas do excel e até mesmo gerar novas planilhas a partir de outros dados."
   ]
  },
  {
   "cell_type": "code",
   "execution_count": null,
   "metadata": {},
   "outputs": [],
   "source": [
    "# Lendo uma planilha do excel no Pandas.\n",
    "dataframe_excel = pd.read_excel('/home/rodrigo/Downloads/temp/Controle-de-Atividades-2.0.xlsx', sheetname=0,header=1)"
   ]
  },
  {
   "cell_type": "code",
   "execution_count": null,
   "metadata": {},
   "outputs": [],
   "source": [
    "dataframe_excel.head()"
   ]
  },
  {
   "cell_type": "code",
   "execution_count": null,
   "metadata": {},
   "outputs": [],
   "source": [
    "# Lendo o arquivo indexando pela coluna 'Estado Atual'\n",
    "\n",
    "file = '/home/rodrigo/Downloads/temp/Controle-de-Atividades-2.0.xlsx'\n",
    "dataframe_excel = pd.read_excel(file, sheetname=0, header=1, index_col=3)"
   ]
  },
  {
   "cell_type": "code",
   "execution_count": null,
   "metadata": {},
   "outputs": [],
   "source": [
    "dataframe_excel.head(10)"
   ]
  },
  {
   "cell_type": "code",
   "execution_count": null,
   "metadata": {},
   "outputs": [],
   "source": [
    "# Ordenando o dataframe pela coluna de índice. \n",
    "dataframe_excel.sort_index()"
   ]
  },
  {
   "cell_type": "markdown",
   "metadata": {},
   "source": [
    "# ** Gerando Planilhas a partir de Dataframes **\n"
   ]
  },
  {
   "cell_type": "code",
   "execution_count": null,
   "metadata": {},
   "outputs": [],
   "source": [
    "# Vou usar o dataset de imoveis para gerar uma planilha.\n",
    "dataset.head()"
   ]
  },
  {
   "cell_type": "code",
   "execution_count": null,
   "metadata": {},
   "outputs": [],
   "source": [
    "# Gerando uma planilha com algumas colunas\n",
    "colunas = ['id','price','bedrooms','bathrooms','sqft_living','floors','waterfront']\n",
    "dataset[colunas].head()"
   ]
  },
  {
   "cell_type": "code",
   "execution_count": null,
   "metadata": {},
   "outputs": [],
   "source": [
    "# Escrevendo no disco a planilha sem o valor do índice.\n",
    "dataset[colunas].to_excel('planilha_pandas.xls',index=False)"
   ]
  }
 ],
 "metadata": {
  "kernelspec": {
   "display_name": "Python 3",
   "language": "python",
   "name": "python3"
  },
  "language_info": {
   "codemirror_mode": {
    "name": "ipython",
    "version": 3
   },
   "file_extension": ".py",
   "mimetype": "text/x-python",
   "name": "python",
   "nbconvert_exporter": "python",
   "pygments_lexer": "ipython3",
   "version": "3.6.4"
  }
 },
 "nbformat": 4,
 "nbformat_minor": 2
}
