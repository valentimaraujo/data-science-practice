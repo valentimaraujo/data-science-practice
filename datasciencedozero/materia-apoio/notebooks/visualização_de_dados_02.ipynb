{
 "cells": [
  {
   "cell_type": "markdown",
   "metadata": {
    "colab_type": "text",
    "id": "GgUHLmxk7Ga5"
   },
   "source": [
    "# Minerando Dados  - ** Visualização de Dados **"
   ]
  },
  {
   "cell_type": "markdown",
   "metadata": {
    "colab_type": "text",
    "id": "t_ak8TC67Ga7"
   },
   "source": [
    "**Trabalhando com Seaborn**"
   ]
  },
  {
   "cell_type": "markdown",
   "metadata": {
    "colab_type": "text",
    "id": "quprP4gvB-46"
   },
   "source": [
    "* Biblioteca para visualização de dados baseado em Matplotlib.\n",
    "* Interface de alto nível para gráficos estatísticos.\n",
    "* Fornece uma interface atraente e profissional para os gráficos.\n",
    "* Simples e muito intuitiva de usar."
   ]
  },
  {
   "cell_type": "markdown",
   "metadata": {
    "colab_type": "text",
    "id": "5wwF0C_4Ads6"
   },
   "source": [
    "**Quando utilizar?**\n",
    "\n",
    "* Útil para análise e exploração de dados.\n",
    "* Apresentar análises visuais."
   ]
  },
  {
   "cell_type": "markdown",
   "metadata": {
    "colab_type": "text",
    "id": "NwOJiIGaAyO5"
   },
   "source": [
    "**Instalação da Biblioteca**"
   ]
  },
  {
   "cell_type": "markdown",
   "metadata": {
    "colab_type": "text",
    "id": "AI3FfbTs7Ga8"
   },
   "source": [
    "* Caso não esteja usando anaconda instale o matplotlib com o gerenciador de pacotes pip ou usando o conda. Exemplo:"
   ]
  },
  {
   "cell_type": "markdown",
   "metadata": {
    "colab_type": "text",
    "id": "3PL9SCMzwDeH"
   },
   "source": [
    "# Seaborn"
   ]
  },
  {
   "cell_type": "code",
   "execution_count": null,
   "metadata": {
    "colab": {
     "base_uri": "https://localhost:8080/",
     "height": 391
    },
    "colab_type": "code",
    "id": "jkgomcoe7Ga9",
    "outputId": "6f19b23b-4ba9-438a-cfd4-4c1a2f7b942d"
   },
   "outputs": [],
   "source": [
    "!pip install seaborn==0.9.0"
   ]
  },
  {
   "cell_type": "code",
   "execution_count": null,
   "metadata": {
    "colab": {},
    "colab_type": "code",
    "id": "__v7nqAT7GbB"
   },
   "outputs": [],
   "source": [
    "!conda install seaborn==0.9.0"
   ]
  },
  {
   "cell_type": "markdown",
   "metadata": {
    "colab_type": "text",
    "id": "bcHc_rbG1Npv"
   },
   "source": [
    "## Datasets"
   ]
  },
  {
   "cell_type": "code",
   "execution_count": null,
   "metadata": {
    "colab": {},
    "colab_type": "code",
    "id": "3dlF_E_e9UKf"
   },
   "outputs": [],
   "source": [
    "import seaborn as sns"
   ]
  },
  {
   "cell_type": "code",
   "execution_count": null,
   "metadata": {
    "colab": {},
    "colab_type": "code",
    "id": "WtHWs5Pc9J9q"
   },
   "outputs": [],
   "source": [
    "df_tips = sns.load_dataset(\"tips\")"
   ]
  },
  {
   "cell_type": "code",
   "execution_count": null,
   "metadata": {
    "colab": {},
    "colab_type": "code",
    "id": "elh0S8XQ9KAx"
   },
   "outputs": [],
   "source": [
    "df_tips.head()"
   ]
  },
  {
   "cell_type": "markdown",
   "metadata": {
    "colab_type": "text",
    "id": "WRhYKCQ46ffb"
   },
   "source": [
    "# Visualizando Relações Estatísticas nos Dados."
   ]
  },
  {
   "cell_type": "markdown",
   "metadata": {
    "colab_type": "text",
    "id": "vjZSU1tz6r9G"
   },
   "source": [
    "\n",
    "> A análise estatística é o processo de entender como variáveis no conjunto de dade se relacionam uma com a outra e como essas relações dependem de outras variáveis. A Visualização de dados se torna uma peça essencial nesse processo, pois, quando os dados são visualizados adequadamente, as pessoas conseguem descobrir padrões que indicam relações nos dados."
   ]
  },
  {
   "cell_type": "markdown",
   "metadata": {
    "colab_type": "text",
    "id": "YiygGAMA8KKb"
   },
   "source": [
    "## Função relplot()"
   ]
  },
  {
   "cell_type": "markdown",
   "metadata": {
    "colab_type": "text",
    "id": "nxKn_D_n3uHt"
   },
   "source": [
    "Método de alto nível para visualização de relaçoes estatísticas entre variáveis. O método relplot() já combina o **scatter plot** e **line plots**. \n",
    "\n",
    "Muito útil para ver relações entre duas ou mais variáveis com o uso de parâmetros de semântica dos dados."
   ]
  },
  {
   "cell_type": "markdown",
   "metadata": {
    "colab_type": "text",
    "id": "ZNqTJqeZ8iUE"
   },
   "source": [
    "# Relação de Variáveis com Scatter Plots"
   ]
  },
  {
   "cell_type": "markdown",
   "metadata": {
    "colab_type": "text",
    "id": "7dZQOs6CASzk"
   },
   "source": [
    "**Visualizando a relação entre a variável valor total da conta e gorjeta.**"
   ]
  },
  {
   "cell_type": "code",
   "execution_count": null,
   "metadata": {
    "colab": {
     "base_uri": "https://localhost:8080/",
     "height": 369
    },
    "colab_type": "code",
    "id": "TdwFaXTf6U9S",
    "outputId": "1a84f24c-dc32-46af-bf70-37630d4c1253"
   },
   "outputs": [],
   "source": [
    "tips = sns.load_dataset(\"tips\")\n",
    "\n",
    "sns.relplot(x=\"total_bill\", y=\"tip\", data=tips);"
   ]
  },
  {
   "cell_type": "markdown",
   "metadata": {
    "colab_type": "text",
    "id": "uForKupTAdBg"
   },
   "source": [
    "**Visualizando a relação entre as variávels total da conta e gorjeta e colorindo cada ponto com a variável smoker(fumante)**"
   ]
  },
  {
   "cell_type": "code",
   "execution_count": null,
   "metadata": {
    "colab": {
     "base_uri": "https://localhost:8080/",
     "height": 369
    },
    "colab_type": "code",
    "id": "4KYo9S6V9KCi",
    "outputId": "b841c3d7-f140-4e95-f3a1-a3ea7aa959dd"
   },
   "outputs": [],
   "source": [
    "sns.relplot(x=\"total_bill\", y=\"tip\", hue=\"smoker\", data=tips);"
   ]
  },
  {
   "cell_type": "markdown",
   "metadata": {
    "colab_type": "text",
    "id": "eIrTZ5AvAwpP"
   },
   "source": [
    "**Visualizando a relação entre as variávels total da conta e gorjeta e colorindo cada ponto com a variável sex**\n",
    "\n"
   ]
  },
  {
   "cell_type": "code",
   "execution_count": null,
   "metadata": {
    "colab": {
     "base_uri": "https://localhost:8080/",
     "height": 369
    },
    "colab_type": "code",
    "id": "7E6yB0Z56VLA",
    "outputId": "502b2f65-5454-4de0-dfa9-b256b6c38202"
   },
   "outputs": [],
   "source": [
    "sns.relplot(x=\"total_bill\", y=\"tip\", hue=\"sex\", data=tips);"
   ]
  },
  {
   "cell_type": "markdown",
   "metadata": {
    "colab_type": "text",
    "id": "6MhDN96BA4Pu"
   },
   "source": [
    "**Visualizando a relação entre as variávels total da conta e gorjeta e colorindo cada ponto com a variável  sexo e definindo um estilo também baseado na variável sexo**"
   ]
  },
  {
   "cell_type": "code",
   "execution_count": null,
   "metadata": {
    "colab": {
     "base_uri": "https://localhost:8080/",
     "height": 369
    },
    "colab_type": "code",
    "id": "rNTqw1Wd6VP7",
    "outputId": "a023d8eb-ed90-43ba-870f-7226b1bf3d9a"
   },
   "outputs": [],
   "source": [
    "sns.relplot(x=\"total_bill\", y=\"tip\", hue=\"sex\", style=\"sex\", data=tips);"
   ]
  },
  {
   "cell_type": "markdown",
   "metadata": {
    "colab_type": "text",
    "id": "iST1iE4gBUBI"
   },
   "source": [
    "**É possível representar quatro variáveis alterando a tonalidade e estilo de cada ponto. Mas é preciso cautela, pois, a visualização pode ficar confusa.**"
   ]
  },
  {
   "cell_type": "code",
   "execution_count": null,
   "metadata": {
    "colab": {
     "base_uri": "https://localhost:8080/",
     "height": 369
    },
    "colab_type": "code",
    "id": "1K490zeo6U6L",
    "outputId": "d658d5ad-7bf7-4511-8675-95d2401278c5"
   },
   "outputs": [],
   "source": [
    "sns.relplot(x=\"total_bill\", y=\"tip\", hue=\"sex\", style=\"smoker\", data=tips);"
   ]
  },
  {
   "cell_type": "markdown",
   "metadata": {
    "colab_type": "text",
    "id": "WOb--7laCyvj"
   },
   "source": [
    "**Em casos de variáveis numéricas para definir a tonalidade a paleta de cores altera de forma seguencial.**"
   ]
  },
  {
   "cell_type": "code",
   "execution_count": null,
   "metadata": {
    "colab": {
     "base_uri": "https://localhost:8080/",
     "height": 369
    },
    "colab_type": "code",
    "id": "t4Al4N_JBt8f",
    "outputId": "4e795651-f252-4fc0-89a2-919b9d61033c"
   },
   "outputs": [],
   "source": [
    "sns.relplot(x=\"total_bill\", y=\"tip\", hue=\"size\", data=tips);"
   ]
  },
  {
   "cell_type": "markdown",
   "metadata": {
    "colab_type": "text",
    "id": "_fP4zvT4DLAm"
   },
   "source": [
    "**É possível customizar a paleta de cores sequenciais no link**: \n",
    "\n",
    "* https://seaborn.pydata.org/generated/seaborn.cubehelix_palette.html#seaborn.cubehelix_palette"
   ]
  },
  {
   "cell_type": "markdown",
   "metadata": {
    "colab_type": "text",
    "id": "nqZvYFwlDLKQ"
   },
   "source": [
    "**Usando a opção size para definir o tamanho de cada ponto baseado em alguma coluna da base de dados**"
   ]
  },
  {
   "cell_type": "code",
   "execution_count": null,
   "metadata": {
    "colab": {
     "base_uri": "https://localhost:8080/",
     "height": 369
    },
    "colab_type": "code",
    "id": "Z-IkMfRADrqs",
    "outputId": "e3aa9970-5edd-4802-88fd-3152134dab60"
   },
   "outputs": [],
   "source": [
    "sns.relplot(x=\"total_bill\", y=\"tip\", size=\"size\", data=tips);"
   ]
  },
  {
   "cell_type": "code",
   "execution_count": null,
   "metadata": {
    "colab": {
     "base_uri": "https://localhost:8080/",
     "height": 369
    },
    "colab_type": "code",
    "id": "C3fFBthMBuHJ",
    "outputId": "9b26e63d-554a-48d4-b439-5dc9cf51c59d"
   },
   "outputs": [],
   "source": [
    "sns.relplot(x=\"total_bill\", y=\"tip\", size=\"size\", sizes=(15,300), data=tips);"
   ]
  },
  {
   "cell_type": "markdown",
   "metadata": {
    "colab_type": "text",
    "id": "mAescQmR1Nqm"
   },
   "source": [
    "## Scatterplot"
   ]
  },
  {
   "cell_type": "markdown",
   "metadata": {
    "colab_type": "text",
    "id": "ha-xxDMh1Nqm"
   },
   "source": [
    "* Caso não queira usar o relplot() o método scatterplot() já atende perfeitamente quando queremos ver relações nos dados.\n",
    "\n",
    "* A única diferença é que o scatterplot plota gráfico de dispersão apenas, logo este não contém a função lineplot()."
   ]
  },
  {
   "cell_type": "markdown",
   "metadata": {
    "colab_type": "text",
    "id": "XY8lMMIf1Nqm"
   },
   "source": [
    "**Visualizando relação entre as 4 variáveis total_bill,tipo,day,smoker**"
   ]
  },
  {
   "cell_type": "code",
   "execution_count": null,
   "metadata": {
    "colab": {},
    "colab_type": "code",
    "id": "ruc1T4t81Nqo",
    "outputId": "65110070-9e79-41de-e9aa-cd9fa1255ac6"
   },
   "outputs": [],
   "source": [
    "%matplotlib notebook\n",
    "sns.scatterplot(x=\"total_bill\", y=\"tip\", hue=\"day\", style=\"time\", data=tips)"
   ]
  },
  {
   "cell_type": "markdown",
   "metadata": {
    "colab_type": "text",
    "id": "taXEyULn1Nqr"
   },
   "source": [
    "## Redimensionando Figuras no Seaborn"
   ]
  },
  {
   "cell_type": "code",
   "execution_count": null,
   "metadata": {
    "colab": {},
    "colab_type": "code",
    "id": "D1ipsO5A1Nqs"
   },
   "outputs": [],
   "source": [
    "import matplotlib.pyplot as plt"
   ]
  },
  {
   "cell_type": "code",
   "execution_count": null,
   "metadata": {
    "colab": {},
    "colab_type": "code",
    "id": "NCZN6Mpj1Nqu",
    "outputId": "25056aba-0ddb-4fba-ed08-0f7e300a1ef8"
   },
   "outputs": [],
   "source": [
    "f, ax = plt.subplots(figsize=(15, 7))\n",
    "\n",
    "sns.scatterplot(x=\"total_bill\", y=\"tip\", hue=\"day\", data=tips)"
   ]
  },
  {
   "cell_type": "markdown",
   "metadata": {
    "colab_type": "text",
    "id": "XRTslrXB1rkx"
   },
   "source": [
    "## Cores no Seaborn"
   ]
  },
  {
   "cell_type": "markdown",
   "metadata": {
    "colab_type": "text",
    "id": "RoKkJeKY1hJS"
   },
   "source": [
    "* A funcao que controla as cores no seaborn e a color_palette(). \n",
    "* Essa funcao fornece uma interface para gerar cores no seaborn.\n",
    "* Usamos esse metodo internamente ao usar o parametro palette.\n",
    "* O metodo color_palette() recebe o nome de uma paleta de cores do seaborn ou um colormap do matplotlib\n",
    "* O metodo set_palette() recebe os mesmos parametros e eh usado para definir um estilo padrao para todos os plots.\n",
    "* As cores devem ser definidas levando em consideracao o tipo de dado que queremos plotar. (qualitativos, sequenciais,diverging)\n"
   ]
  },
  {
   "cell_type": "markdown",
   "metadata": {
    "colab_type": "text",
    "id": "jUdbPmx-SgEf"
   },
   "source": [
    "**Ferramenta Color Brewer 2.0 **\n",
    "\n",
    "*  http://colorbrewer2.org/#type=sequential&scheme=BuGn&n=3"
   ]
  },
  {
   "cell_type": "markdown",
   "metadata": {
    "colab_type": "text",
    "id": "hy6CwkIzIMe6"
   },
   "source": [
    "** Paleta de cores para dados Quantitativos**"
   ]
  },
  {
   "cell_type": "code",
   "execution_count": null,
   "metadata": {
    "colab": {
     "base_uri": "https://localhost:8080/",
     "height": 92
    },
    "colab_type": "code",
    "id": "cl0uhXCOHxfV",
    "outputId": "1de59975-f68a-47ad-e3df-4a8f7dd5f6c3"
   },
   "outputs": [],
   "source": [
    "sns.palplot(sns.color_palette(\"Accent\"))"
   ]
  },
  {
   "cell_type": "markdown",
   "metadata": {
    "colab_type": "text",
    "id": "i3UE99-6r0vH"
   },
   "source": [
    "** Paleta de cores para dados divergentes**"
   ]
  },
  {
   "cell_type": "code",
   "execution_count": null,
   "metadata": {
    "colab": {
     "base_uri": "https://localhost:8080/",
     "height": 92
    },
    "colab_type": "code",
    "id": "DLybEqCMrerQ",
    "outputId": "5d95cfb4-cc50-4e8f-9f49-5347145e549d"
   },
   "outputs": [],
   "source": [
    "sns.palplot(sns.color_palette(\"PuOr\"))"
   ]
  },
  {
   "cell_type": "markdown",
   "metadata": {
    "colab_type": "text",
    "id": "aVZb1Onpr5lo"
   },
   "source": [
    "**Paleta de cores para dados sequenciais**"
   ]
  },
  {
   "cell_type": "code",
   "execution_count": null,
   "metadata": {
    "colab": {
     "base_uri": "https://localhost:8080/",
     "height": 92
    },
    "colab_type": "code",
    "id": "ZmQGPRPDsA6f",
    "outputId": "23d43629-de1f-4d12-e4d4-15ebfabb535a"
   },
   "outputs": [],
   "source": [
    "sns.palplot(sns.color_palette(\"Blues\"))"
   ]
  },
  {
   "cell_type": "markdown",
   "metadata": {
    "colab_type": "text",
    "id": "oN5hV4OBL07R"
   },
   "source": [
    "**Gráfico usando a paleta de cor sequencial \"Blues\"**"
   ]
  },
  {
   "cell_type": "code",
   "execution_count": null,
   "metadata": {
    "colab": {
     "base_uri": "https://localhost:8080/",
     "height": 369
    },
    "colab_type": "code",
    "id": "1aPAYzCCKgBd",
    "outputId": "38c5f4a8-f2a3-4050-9d31-35e461df5c16"
   },
   "outputs": [],
   "source": [
    "sns.relplot(x=\"total_bill\", y=\"tip\", hue=\"size\", palette=\"Blues\", size=\"size\", sizes=(12,250), data=tips);"
   ]
  },
  {
   "cell_type": "markdown",
   "metadata": {
    "colab_type": "text",
    "id": "vbNRpXUGMYPA"
   },
   "source": [
    "**Gráfico usando a paleta de cor qualitativa \"Set2\"**"
   ]
  },
  {
   "cell_type": "code",
   "execution_count": null,
   "metadata": {
    "colab": {
     "base_uri": "https://localhost:8080/",
     "height": 369
    },
    "colab_type": "code",
    "id": "1Lzk6iuXMVM4",
    "outputId": "58e2fc1f-aa93-4def-87b0-1d6030966882"
   },
   "outputs": [],
   "source": [
    "sns.catplot(x=\"sex\", kind=\"count\", palette=\"Set2\", data=tips);"
   ]
  },
  {
   "cell_type": "markdown",
   "metadata": {
    "colab_type": "text",
    "id": "dKvSZuSHScDi"
   },
   "source": [
    "**Gráfico usando a paleta de cor divergente \"PiYG\"**"
   ]
  },
  {
   "cell_type": "code",
   "execution_count": null,
   "metadata": {
    "colab": {
     "base_uri": "https://localhost:8080/",
     "height": 287
    },
    "colab_type": "code",
    "id": "7uQO3TwdOoD8",
    "outputId": "608dd347-f736-480b-a760-c4f88bda9a2b"
   },
   "outputs": [],
   "source": [
    "sns.heatmap(tips.corr(), annot=True, cmap=\"PiYG\")"
   ]
  },
  {
   "cell_type": "markdown",
   "metadata": {
    "colab_type": "text",
    "id": "mNMOBMuM1hFm"
   },
   "source": [
    "** Definindo cores padrão para gráficos Searborn**"
   ]
  },
  {
   "cell_type": "code",
   "execution_count": null,
   "metadata": {
    "colab": {
     "base_uri": "https://localhost:8080/",
     "height": 369
    },
    "colab_type": "code",
    "id": "Q3-4axFnFutk",
    "outputId": "b6389168-1141-4c09-f327-9ff2bf8931ff"
   },
   "outputs": [],
   "source": [
    "sns.set_palette(\"pastel\")\n",
    "\n",
    "# plot usando a paleta de cor \"pastel\"\n",
    "sns.relplot(x=\"total_bill\", y=\"tip\", data=tips);"
   ]
  },
  {
   "cell_type": "markdown",
   "metadata": {
    "colab_type": "text",
    "id": "-rjXv1CJHOgj"
   },
   "source": [
    "** Instrução with para definir cor temporariamente**"
   ]
  },
  {
   "cell_type": "code",
   "execution_count": null,
   "metadata": {
    "colab": {
     "base_uri": "https://localhost:8080/",
     "height": 369
    },
    "colab_type": "code",
    "id": "DGdJUgQSGXQb",
    "outputId": "4d23e017-cb2f-42f7-eb77-7a4c5ecb42cf"
   },
   "outputs": [],
   "source": [
    "# Plota o gráfico definindo uma opção de cor temporária\n",
    "with sns.color_palette(\"Accent\"):\n",
    "  sns.relplot(x=\"total_bill\", y=\"tip\", size=\"size\", sizes=(12,250), data=tips);"
   ]
  }
 ],
 "metadata": {
  "colab": {
   "name": "visualização_de_dados_02.ipynb",
   "provenance": [],
   "version": "0.3.2"
  },
  "kernelspec": {
   "display_name": "Python 3",
   "language": "python",
   "name": "python3"
  },
  "language_info": {
   "codemirror_mode": {
    "name": "ipython",
    "version": 3
   },
   "file_extension": ".py",
   "mimetype": "text/x-python",
   "name": "python",
   "nbconvert_exporter": "python",
   "pygments_lexer": "ipython3",
   "version": "3.6.8"
  }
 },
 "nbformat": 4,
 "nbformat_minor": 1
}
